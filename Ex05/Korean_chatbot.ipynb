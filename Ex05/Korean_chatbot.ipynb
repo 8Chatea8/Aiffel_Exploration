{
 "cells": [
  {
   "cell_type": "markdown",
   "id": "deeb48d7",
   "metadata": {},
   "source": [
    "# 한국어 데이터로 챗봇 만들기\n"
   ]
  },
  {
   "cell_type": "code",
   "execution_count": 1,
   "id": "c2be82c1",
   "metadata": {},
   "outputs": [],
   "source": [
    "import tensorflow as tf\n",
    "import tensorflow_datasets as tfds\n",
    "import os\n",
    "import re\n",
    "import numpy as np\n",
    "import pandas as pd\n",
    "import matplotlib.pyplot as plt"
   ]
  },
  {
   "cell_type": "markdown",
   "id": "b995e6db",
   "metadata": {},
   "source": [
    "## Step 1. 데이터 수집하기\n",
    "\n",
    "데이터셋 출처: https://github.com/songys/Chatbot_data/tree/master"
   ]
  },
  {
   "cell_type": "code",
   "execution_count": 4,
   "id": "792ec614",
   "metadata": {},
   "outputs": [
    {
     "data": {
      "text/html": [
       "<div>\n",
       "<style scoped>\n",
       "    .dataframe tbody tr th:only-of-type {\n",
       "        vertical-align: middle;\n",
       "    }\n",
       "\n",
       "    .dataframe tbody tr th {\n",
       "        vertical-align: top;\n",
       "    }\n",
       "\n",
       "    .dataframe thead th {\n",
       "        text-align: right;\n",
       "    }\n",
       "</style>\n",
       "<table border=\"1\" class=\"dataframe\">\n",
       "  <thead>\n",
       "    <tr style=\"text-align: right;\">\n",
       "      <th></th>\n",
       "      <th>Q</th>\n",
       "      <th>A</th>\n",
       "      <th>label</th>\n",
       "    </tr>\n",
       "  </thead>\n",
       "  <tbody>\n",
       "    <tr>\n",
       "      <th>0</th>\n",
       "      <td>12시 땡!</td>\n",
       "      <td>하루가 또 가네요.</td>\n",
       "      <td>0</td>\n",
       "    </tr>\n",
       "    <tr>\n",
       "      <th>1</th>\n",
       "      <td>1지망 학교 떨어졌어</td>\n",
       "      <td>위로해 드립니다.</td>\n",
       "      <td>0</td>\n",
       "    </tr>\n",
       "    <tr>\n",
       "      <th>2</th>\n",
       "      <td>3박4일 놀러가고 싶다</td>\n",
       "      <td>여행은 언제나 좋죠.</td>\n",
       "      <td>0</td>\n",
       "    </tr>\n",
       "    <tr>\n",
       "      <th>3</th>\n",
       "      <td>3박4일 정도 놀러가고 싶다</td>\n",
       "      <td>여행은 언제나 좋죠.</td>\n",
       "      <td>0</td>\n",
       "    </tr>\n",
       "    <tr>\n",
       "      <th>4</th>\n",
       "      <td>PPL 심하네</td>\n",
       "      <td>눈살이 찌푸려지죠.</td>\n",
       "      <td>0</td>\n",
       "    </tr>\n",
       "  </tbody>\n",
       "</table>\n",
       "</div>"
      ],
      "text/plain": [
       "                 Q            A  label\n",
       "0           12시 땡!   하루가 또 가네요.      0\n",
       "1      1지망 학교 떨어졌어    위로해 드립니다.      0\n",
       "2     3박4일 놀러가고 싶다  여행은 언제나 좋죠.      0\n",
       "3  3박4일 정도 놀러가고 싶다  여행은 언제나 좋죠.      0\n",
       "4          PPL 심하네   눈살이 찌푸려지죠.      0"
      ]
     },
     "execution_count": 4,
     "metadata": {},
     "output_type": "execute_result"
    }
   ],
   "source": [
    "data = pd.read_csv('~/aiffel/Exploration/Aiffel_Exploration/Ex05/data/ChatbotData .csv')\n",
    "data.head()"
   ]
  },
  {
   "cell_type": "code",
   "execution_count": 5,
   "id": "feb19f67",
   "metadata": {},
   "outputs": [
    {
     "data": {
      "text/plain": [
       "((11823,), (11823,))"
      ]
     },
     "execution_count": 5,
     "metadata": {},
     "output_type": "execute_result"
    }
   ],
   "source": [
    "questions = data['Q']\n",
    "answers = data['A']\n",
    "\n",
    "questions.shape, answers.shape"
   ]
  },
  {
   "cell_type": "markdown",
   "id": "ae904b05",
   "metadata": {},
   "source": [
    "## Step 2. 데이터 전처리하기"
   ]
  },
  {
   "cell_type": "code",
   "execution_count": 18,
   "id": "3218b0b4",
   "metadata": {},
   "outputs": [],
   "source": [
    "def preprocess_sentence(sentence):\n",
    "    # 양쪽 공백 제거\n",
    "    sentence = sentence.strip()\n",
    "    \n",
    "    # 단어와 구두점 사이 거리 만들기\n",
    "    sentence = re.sub(r\"([?.!,])\", r\" \\1 \", sentence)\n",
    "    sentence = re.sub(r'[\" \"]+', \" \", sentence)\n",
    "    sentence = sentence.strip()\n",
    "\n",
    "    return sentence"
   ]
  },
  {
   "cell_type": "code",
   "execution_count": 19,
   "id": "c129e49f",
   "metadata": {},
   "outputs": [
    {
     "data": {
      "text/plain": [
       "(11823, 11823)"
      ]
     },
     "execution_count": 19,
     "metadata": {},
     "output_type": "execute_result"
    }
   ],
   "source": [
    "pre_questions = []\n",
    "pre_answers = []\n",
    "\n",
    "for i in range(len(questions)):\n",
    "    sentence = questions[i]\n",
    "    pre_questions.append(preprocess_sentence(sentence))\n",
    "    \n",
    "    sentence = answers[i]\n",
    "    pre_answers.append(preprocess_sentence(sentence))\n",
    "    \n",
    "len(pre_questions), len(pre_answers)"
   ]
  },
  {
   "cell_type": "code",
   "execution_count": 20,
   "id": "67090bc2",
   "metadata": {},
   "outputs": [
    {
     "name": "stdout",
     "output_type": "stream",
     "text": [
      "전처리 후 500번째 질문 샘플: 나 버림 받은 거 같아\n",
      "전처리 후 500번째 답변 샘플: 아닐거예요 . \n"
     ]
    }
   ],
   "source": [
    "print(f'전처리 후 500번째 질문 샘플: {pre_questions[499]}')\n",
    "print(f'전처리 후 500번째 답변 샘플: {pre_answers[499]}')"
   ]
  },
  {
   "cell_type": "markdown",
   "id": "695ba9ee",
   "metadata": {},
   "source": [
    "## Step 3. SubwordTextEncoder 사용하기"
   ]
  },
  {
   "cell_type": "code",
   "execution_count": 21,
   "id": "33188ecc",
   "metadata": {},
   "outputs": [],
   "source": [
    "tokenizer = tfds.deprecated.text.SubwordTextEncoder.build_from_corpus(pre_questions + pre_answers, \n",
    "                                                                      target_vocab_size=2**13)"
   ]
  },
  {
   "cell_type": "code",
   "execution_count": 22,
   "id": "ffb43fd7",
   "metadata": {},
   "outputs": [
    {
     "data": {
      "text/plain": [
       "[' . ',\n",
       " ' ? ',\n",
       " '거예요',\n",
       " '수_',\n",
       " '게_',\n",
       " '너무_',\n",
       " '더_',\n",
       " '거_',\n",
       " '좋아하는_',\n",
       " '는_',\n",
       " '이_',\n",
       " '을_',\n",
       " '잘_',\n",
       " '도_',\n",
       " '고_',\n",
       " '요',\n",
       " '것_',\n",
       " '많이_',\n",
       " '안_',\n",
       " '좋은_',\n",
       " '같아요',\n",
       " '한_',\n",
       " '좀_',\n",
       " '있어요',\n",
       " '싶어',\n",
       " '가_',\n",
       " '나_',\n",
       " '에_',\n",
       " '있을_',\n",
       " '지_',\n",
       " '해보세요',\n",
       " '은_',\n",
       " '사람_',\n",
       " '할_',\n",
       " '해',\n",
       " '같아',\n",
       " '네',\n",
       " ' ! ',\n",
       " '면_',\n",
       " '건_',\n",
       " '사람이_',\n",
       " '를_',\n",
       " '마세요',\n",
       " '다_',\n",
       " '하고_',\n",
       " '지',\n",
       " '하는_',\n",
       " '보세요',\n",
       " '죠',\n",
       " '어']"
      ]
     },
     "execution_count": 22,
     "metadata": {},
     "output_type": "execute_result"
    }
   ],
   "source": [
    "tokenizer.subwords[:50]"
   ]
  },
  {
   "cell_type": "code",
   "execution_count": 23,
   "id": "10d0fac0",
   "metadata": {},
   "outputs": [
    {
     "data": {
      "text/plain": [
       "8170"
      ]
     },
     "execution_count": 23,
     "metadata": {},
     "output_type": "execute_result"
    }
   ],
   "source": [
    "tokenizer.vocab_size"
   ]
  },
  {
   "cell_type": "code",
   "execution_count": 25,
   "id": "20a3ae57",
   "metadata": {},
   "outputs": [],
   "source": [
    "START_TOKEN, END_TOKEN = [tokenizer.vocab_size], [tokenizer.vocab_size + 1]"
   ]
  },
  {
   "cell_type": "code",
   "execution_count": 26,
   "id": "8a40fea3",
   "metadata": {},
   "outputs": [
    {
     "name": "stdout",
     "output_type": "stream",
     "text": [
      "START_TOKEN의 번호 : [8170]\n",
      "END_TOKEN의 번호 : [8171]\n"
     ]
    }
   ],
   "source": [
    "print('START_TOKEN의 번호 :' ,[tokenizer.vocab_size])\n",
    "print('END_TOKEN의 번호 :' ,[tokenizer.vocab_size + 1])"
   ]
  },
  {
   "cell_type": "code",
   "execution_count": 27,
   "id": "29c77365",
   "metadata": {},
   "outputs": [
    {
     "name": "stdout",
     "output_type": "stream",
     "text": [
      "8172\n"
     ]
    }
   ],
   "source": [
    "VOCAB_SIZE = tokenizer.vocab_size + 2\n",
    "print(VOCAB_SIZE)"
   ]
  },
  {
   "cell_type": "code",
   "execution_count": 32,
   "id": "d3e9c878",
   "metadata": {},
   "outputs": [],
   "source": [
    "input_length = []\n",
    "output_length = []\n",
    "\n",
    "for (sentence1, sentence2) in zip(pre_questions, pre_answers):\n",
    "    sentence1 = tokenizer.encode(sentence1)\n",
    "    sentence2 = tokenizer.encode(sentence2)\n",
    "    \n",
    "    input_length.append(len(sentence1))\n",
    "    output_length.append(len(sentence2))"
   ]
  },
  {
   "cell_type": "code",
   "execution_count": 33,
   "id": "ef321210",
   "metadata": {},
   "outputs": [
    {
     "data": {
      "image/png": "[encoded data removed]",
      "text/plain": [
       "<Figure size 432x288 with 1 Axes>"
      ]
     },
     "metadata": {
      "needs_background": "light"
     },
     "output_type": "display_data"
    }
   ],
   "source": [
    "plt.hist(input_length)\n",
    "plt.show()"
   ]
  },
  {
   "cell_type": "code",
   "execution_count": 34,
   "id": "fa9a41f7",
   "metadata": {},
   "outputs": [
    {
     "data": {
      "image/png": "[encoded data removed]",
      "text/plain": [
       "<Figure size 432x288 with 1 Axes>"
      ]
     },
     "metadata": {
      "needs_background": "light"
     },
     "output_type": "display_data"
    }
   ],
   "source": [
    "plt.hist(output_length)\n",
    "plt.show()"
   ]
  },
  {
   "cell_type": "code",
   "execution_count": 39,
   "id": "c82c318e",
   "metadata": {},
   "outputs": [],
   "source": [
    "MAX_LENGTH = 20\n",
    "def tokenize_and_filter(inputs, outputs):\n",
    "    tokenized_inputs, tokenized_outputs = [], []\n",
    "    \n",
    "    for (sentence1, sentence2) in zip(inputs, outputs):\n",
    "        sentence1 = START_TOKEN + tokenizer.encode(sentence1) + END_TOKEN\n",
    "        sentence2 = START_TOKEN + tokenizer.encode(sentence2) + END_TOKEN\n",
    "        \n",
    "        if len(sentence1) <= MAX_LENGTH and len(sentence2) <= MAX_LENGTH:\n",
    "            tokenized_inputs.append(sentence1)\n",
    "            tokenized_outputs.append(sentence2)\n",
    "    \n",
    "    tokenized_inputs = tf.keras.preprocessing.sequence.pad_sequences(tokenized_inputs, \n",
    "                                                                     maxlen=MAX_LENGTH, \n",
    "                                                                     padding='post')\n",
    "    tokenized_outputs = tf.keras.preprocessing.sequence.pad_sequences(tokenized_outputs, \n",
    "                                                                      maxlen=MAX_LENGTH, \n",
    "                                                                      padding='post')\n",
    "    \n",
    "    return tokenized_inputs, tokenized_outputs"
   ]
  },
  {
   "cell_type": "code",
   "execution_count": 40,
   "id": "1b41bff7",
   "metadata": {},
   "outputs": [
    {
     "name": "stdout",
     "output_type": "stream",
     "text": [
      "단어장의 크기 : 8172\n",
      "필터링 후의 질문 샘플 개수: 11791\n",
      "필터링 후의 답변 샘플 개수: 11791\n"
     ]
    }
   ],
   "source": [
    "questions, answers = tokenize_and_filter(pre_questions, pre_answers)\n",
    "print('단어장의 크기 :',(VOCAB_SIZE))\n",
    "print('필터링 후의 질문 샘플 개수: {}'.format(len(questions)))\n",
    "print('필터링 후의 답변 샘플 개수: {}'.format(len(answers)))"
   ]
  },
  {
   "cell_type": "code",
   "execution_count": 41,
   "id": "0943fd29",
   "metadata": {},
   "outputs": [],
   "source": [
    "BATCH_SIZE = 64\n",
    "BUFFER_SIZE = 20000\n",
    "\n",
    "dataset = tf.data.Dataset.from_tensor_slices((\n",
    "    {\n",
    "        'inputs': questions,\n",
    "        'dec_inputs': answers[:, :-1]\n",
    "    },\n",
    "    {\n",
    "        'outputs': answers[:, 1:]\n",
    "    },\n",
    "))\n",
    "\n",
    "dataset = dataset.cache()\n",
    "dataset = dataset.shuffle(BUFFER_SIZE)\n",
    "dataset = dataset.batch(BATCH_SIZE)\n",
    "dataset = dataset.prefetch(tf.data.experimental.AUTOTUNE)"
   ]
  },
  {
   "cell_type": "markdown",
   "id": "a4642060",
   "metadata": {},
   "source": [
    "## Step 4. 모델 구성하기"
   ]
  },
  {
   "cell_type": "code",
   "execution_count": 42,
   "id": "3bda4370",
   "metadata": {},
   "outputs": [],
   "source": [
    "# 포지셔널 인코딩 레이어\n",
    "class PositionalEncoding(tf.keras.layers.Layer):\n",
    "\n",
    "    def __init__(self, position, d_model):\n",
    "        super(PositionalEncoding, self).__init__()\n",
    "        self.pos_encoding = self.positional_encoding(position, d_model)\n",
    "\n",
    "    def get_angles(self, position, i, d_model):\n",
    "        angles = 1 / tf.pow(10000, (2 * (i // 2)) / tf.cast(d_model, tf.float32))\n",
    "        return position * angles\n",
    "\n",
    "    def positional_encoding(self, position, d_model):\n",
    "        # 각도 배열 생성\n",
    "        angle_rads = self.get_angles(\n",
    "            position=tf.range(position, dtype=tf.float32)[:, tf.newaxis],\n",
    "            i=tf.range(d_model, dtype=tf.float32)[tf.newaxis, :],\n",
    "            d_model=d_model)\n",
    "\n",
    "        # 배열의 짝수 인덱스에는 sin 함수 적용\n",
    "        sines = tf.math.sin(angle_rads[:, 0::2])\n",
    "        # 배열의 홀수 인덱스에는 cosine 함수 적용\n",
    "        cosines = tf.math.cos(angle_rads[:, 1::2])\n",
    "\n",
    "        # sin과 cosine이 교차되도록 재배열\n",
    "        pos_encoding = tf.stack([sines, cosines], axis=0)\n",
    "        pos_encoding = tf.transpose(pos_encoding,[1, 2, 0]) \n",
    "        pos_encoding = tf.reshape(pos_encoding, [position, d_model])\n",
    "\n",
    "        pos_encoding = pos_encoding[tf.newaxis, ...]\n",
    "        return tf.cast(pos_encoding, tf.float32)\n",
    "\n",
    "    def call(self, inputs):\n",
    "        return inputs + self.pos_encoding[:, :tf.shape(inputs)[1], :]"
   ]
  },
  {
   "cell_type": "code",
   "execution_count": 45,
   "id": "d3d65011",
   "metadata": {},
   "outputs": [],
   "source": [
    "# 스케일드 닷 프로덕드 어텐션\n",
    "def scaled_dot_product_attention(query, key, value, mask):\n",
    "    # 어텐션 가중치는 Q와 K의 닷 프로덕트\n",
    "    matmul_qk = tf.matmul(query, key, transpose_b=True)\n",
    "\n",
    "    # 가중치를 정규화\n",
    "    depth = tf.cast(tf.shape(key)[-1], tf.float32)\n",
    "    logits = matmul_qk / tf.math.sqrt(depth)\n",
    "\n",
    "    # 패딩에 마스크 추가\n",
    "    if mask is not None:\n",
    "        logits += (mask * -1e9)\n",
    "\n",
    "    # softmax적용\n",
    "    attention_weights = tf.nn.softmax(logits, axis=-1)\n",
    "\n",
    "    # 최종 어텐션은 가중치와 V의 닷 프로덕트\n",
    "    output = tf.matmul(attention_weights, value)\n",
    "    return output"
   ]
  },
  {
   "cell_type": "code",
   "execution_count": 57,
   "id": "40f9a810",
   "metadata": {},
   "outputs": [],
   "source": [
    "# 멀티 헤드 어텐션\n",
    "class MultiHeadAttention(tf.keras.layers.Layer):\n",
    "\n",
    "    def __init__(self, d_model, num_heads, name=\"multi_head_attention\"):\n",
    "        super(MultiHeadAttention, self).__init__(name=name)\n",
    "        self.num_heads = num_heads\n",
    "        self.d_model = d_model\n",
    "\n",
    "        assert d_model % self.num_heads == 0\n",
    "\n",
    "        self.depth = d_model // self.num_heads\n",
    "\n",
    "        self.query_dense = tf.keras.layers.Dense(units=d_model)\n",
    "        self.key_dense = tf.keras.layers.Dense(units=d_model)\n",
    "        self.value_dense = tf.keras.layers.Dense(units=d_model)\n",
    "\n",
    "        self.dense = tf.keras.layers.Dense(units=d_model)\n",
    "\n",
    "    def split_heads(self, inputs, batch_size):\n",
    "        inputs = tf.reshape(\n",
    "            inputs, shape=(batch_size, -1, self.num_heads, self.depth))\n",
    "        return tf.transpose(inputs, perm=[0, 2, 1, 3])\n",
    "\n",
    "    def call(self, inputs):\n",
    "        query, key, value, mask = inputs['query'], inputs['key'], inputs[\n",
    "            'value'], inputs['mask']\n",
    "        batch_size = tf.shape(query)[0]\n",
    "\n",
    "        # Q, K, V에 각각 Dense를 적용합니다\n",
    "        query = self.query_dense(query)\n",
    "        key = self.key_dense(key)\n",
    "        value = self.value_dense(value)\n",
    "\n",
    "        # 병렬 연산을 위한 머리를 여러 개 만듭니다\n",
    "        query = self.split_heads(query, batch_size)\n",
    "        key = self.split_heads(key, batch_size)\n",
    "        value = self.split_heads(value, batch_size)\n",
    "\n",
    "        # 스케일드 닷 프로덕트 어텐션 함수\n",
    "        scaled_attention = scaled_dot_product_attention(query, key, value, mask)\n",
    "\n",
    "        scaled_attention = tf.transpose(scaled_attention, perm=[0, 2, 1, 3])\n",
    "\n",
    "        # 어텐션 연산 후에 각 결과를 다시 연결(concatenate)합니다\n",
    "        concat_attention = tf.reshape(scaled_attention,\n",
    "                                  (batch_size, -1, self.d_model))\n",
    "\n",
    "        # 최종 결과에도 Dense를 한 번 더 적용합니다\n",
    "        outputs = self.dense(concat_attention)\n",
    "\n",
    "        return outputs"
   ]
  },
  {
   "cell_type": "code",
   "execution_count": 47,
   "id": "dd7c6670",
   "metadata": {},
   "outputs": [],
   "source": [
    "# 패딩 마스킹\n",
    "def create_padding_mask(x):\n",
    "    mask = tf.cast(tf.math.equal(x, 0), tf.float32)\n",
    "    # (batch_size, 1, 1, sequence length)\n",
    "    return mask[:, tf.newaxis, tf.newaxis, :]"
   ]
  },
  {
   "cell_type": "code",
   "execution_count": 48,
   "id": "4dfb5376",
   "metadata": {},
   "outputs": [],
   "source": [
    "# 룩 어헤드 마스킹\n",
    "def create_look_ahead_mask(x):\n",
    "    seq_len = tf.shape(x)[1]\n",
    "    look_ahead_mask = 1 - tf.linalg.band_part(tf.ones((seq_len, seq_len)), -1, 0)\n",
    "    padding_mask = create_padding_mask(x)\n",
    "    return tf.maximum(look_ahead_mask, padding_mask)"
   ]
  },
  {
   "cell_type": "code",
   "execution_count": 49,
   "id": "5b95d669",
   "metadata": {},
   "outputs": [],
   "source": [
    "# 인코더 레이어\n",
    "def encoder_layer(units, d_model, num_heads, dropout, name=\"encoder_layer\"):\n",
    "    inputs = tf.keras.Input(shape=(None, d_model), name=\"inputs\")\n",
    "\n",
    "    # 패딩 마스크 사용\n",
    "    padding_mask = tf.keras.Input(shape=(1, 1, None), name=\"padding_mask\")\n",
    "\n",
    "    # 첫 번째 서브 레이어 : 멀티 헤드 어텐션 수행 (셀프 어텐션)\n",
    "    attention = MultiHeadAttention(\n",
    "        d_model, num_heads, name=\"attention\")({\n",
    "          'query': inputs,\n",
    "          'key': inputs,\n",
    "          'value': inputs,\n",
    "          'mask': padding_mask\n",
    "        })\n",
    "\n",
    "    # 어텐션의 결과는 Dropout과 Layer Normalization이라는 훈련을 돕는 테크닉을 수행\n",
    "    attention = tf.keras.layers.Dropout(rate=dropout)(attention)\n",
    "    attention = tf.keras.layers.LayerNormalization(epsilon=1e-6)(inputs + attention)\n",
    "\n",
    "    # 두 번째 서브 레이어 : 2개의 완전연결층\n",
    "    outputs = tf.keras.layers.Dense(units=units, activation='relu')(attention)\n",
    "    outputs = tf.keras.layers.Dense(units=d_model)(outputs)\n",
    "\n",
    "    # 완전연결층의 결과는 Dropout과 LayerNormalization이라는 훈련을 돕는 테크닉을 수행\n",
    "    outputs = tf.keras.layers.Dropout(rate=dropout)(outputs)\n",
    "    outputs = tf.keras.layers.LayerNormalization(epsilon=1e-6)(attention + outputs)\n",
    "\n",
    "    return tf.keras.Model(inputs=[inputs, padding_mask], outputs=outputs, name=name)"
   ]
  },
  {
   "cell_type": "code",
   "execution_count": 50,
   "id": "a68e6e57",
   "metadata": {},
   "outputs": [],
   "source": [
    "# 인코더\n",
    "def encoder(vocab_size,\n",
    "            num_layers,\n",
    "            units,\n",
    "            d_model,\n",
    "            num_heads,\n",
    "            dropout,\n",
    "            name=\"encoder\"):\n",
    "    inputs = tf.keras.Input(shape=(None,), name=\"inputs\")\n",
    "\n",
    "    # 패딩 마스크 사용\n",
    "    padding_mask = tf.keras.Input(shape=(1, 1, None), name=\"padding_mask\")\n",
    "\n",
    "    # 임베딩 레이어\n",
    "    embeddings = tf.keras.layers.Embedding(vocab_size, d_model)(inputs)\n",
    "    embeddings *= tf.math.sqrt(tf.cast(d_model, tf.float32))\n",
    "\n",
    "    # 포지셔널 인코딩\n",
    "    embeddings = PositionalEncoding(vocab_size, d_model)(embeddings)\n",
    "\n",
    "    outputs = tf.keras.layers.Dropout(rate=dropout)(embeddings)\n",
    "\n",
    "    # num_layers만큼 쌓아올린 인코더의 층.\n",
    "    for i in range(num_layers):\n",
    "        outputs = encoder_layer(\n",
    "                units=units,\n",
    "                d_model=d_model,\n",
    "                num_heads=num_heads,\n",
    "                dropout=dropout,\n",
    "                name=\"encoder_layer_{}\".format(i),\n",
    "            )([outputs, padding_mask])\n",
    "\n",
    "    return tf.keras.Model(inputs=[inputs, padding_mask], outputs=outputs, name=name)"
   ]
  },
  {
   "cell_type": "code",
   "execution_count": 51,
   "id": "98c694d4",
   "metadata": {},
   "outputs": [],
   "source": [
    "# 디코더 레이어\n",
    "def decoder_layer(units, d_model, num_heads, dropout, name=\"decoder_layer\"):\n",
    "    inputs = tf.keras.Input(shape=(None, d_model), name=\"inputs\")\n",
    "    enc_outputs = tf.keras.Input(shape=(None, d_model), name=\"encoder_outputs\")\n",
    "    look_ahead_mask = tf.keras.Input(shape=(1, None, None), name=\"look_ahead_mask\")\n",
    "    padding_mask = tf.keras.Input(shape=(1, 1, None), name='padding_mask')\n",
    "\n",
    "    # 첫 번째 서브 레이어 : 멀티 헤드 어텐션 수행 (셀프 어텐션)\n",
    "    attention1 = MultiHeadAttention(\n",
    "        d_model, num_heads, name=\"attention_1\")(inputs={\n",
    "          'query': inputs,\n",
    "          'key': inputs,\n",
    "          'value': inputs,\n",
    "          'mask': look_ahead_mask\n",
    "        })\n",
    "\n",
    "    # 멀티 헤드 어텐션의 결과는 LayerNormalization이라는 훈련을 돕는 테크닉을 수행\n",
    "    attention1 = tf.keras.layers.LayerNormalization(epsilon=1e-6)(attention1 + inputs)\n",
    "\n",
    "    # 두 번째 서브 레이어 : 마스크드 멀티 헤드 어텐션 수행 (인코더-디코더 어텐션)\n",
    "    attention2 = MultiHeadAttention(\n",
    "        d_model, num_heads, name=\"attention_2\")(inputs={\n",
    "          'query': attention1,\n",
    "          'key': enc_outputs,\n",
    "          'value': enc_outputs,\n",
    "          'mask': padding_mask\n",
    "        })\n",
    "\n",
    "    # 마스크드 멀티 헤드 어텐션의 결과는\n",
    "    # Dropout과 LayerNormalization이라는 훈련을 돕는 테크닉을 수행\n",
    "    attention2 = tf.keras.layers.Dropout(rate=dropout)(attention2)\n",
    "    attention2 = tf.keras.layers.LayerNormalization(epsilon=1e-6)(attention2 + attention1)\n",
    "\n",
    "    # 세 번째 서브 레이어 : 2개의 완전연결층\n",
    "    outputs = tf.keras.layers.Dense(units=units, activation='relu')(attention2)\n",
    "    outputs = tf.keras.layers.Dense(units=d_model)(outputs)\n",
    "\n",
    "    # 완전연결층의 결과는 Dropout과 LayerNormalization 수행\n",
    "    outputs = tf.keras.layers.Dropout(rate=dropout)(outputs)\n",
    "    outputs = tf.keras.layers.LayerNormalization(epsilon=1e-6)(outputs + attention2)\n",
    "\n",
    "    return tf.keras.Model(inputs=[inputs, enc_outputs, look_ahead_mask, padding_mask],\n",
    "                          outputs=outputs,\n",
    "                          name=name)"
   ]
  },
  {
   "cell_type": "code",
   "execution_count": 52,
   "id": "816d3fba",
   "metadata": {},
   "outputs": [],
   "source": [
    "# 디코더\n",
    "def decoder(vocab_size,\n",
    "            num_layers,\n",
    "            units,\n",
    "            d_model,\n",
    "            num_heads,\n",
    "            dropout,\n",
    "            name='decoder'):\n",
    "    inputs = tf.keras.Input(shape=(None,), name='inputs')\n",
    "    enc_outputs = tf.keras.Input(shape=(None, d_model), name='encoder_outputs')\n",
    "    look_ahead_mask = tf.keras.Input(shape=(1, None, None), name='look_ahead_mask')\n",
    "\n",
    "    # 패딩 마스크\n",
    "    padding_mask = tf.keras.Input(shape=(1, 1, None), name='padding_mask')\n",
    "  \n",
    "    # 임베딩 레이어\n",
    "    embeddings = tf.keras.layers.Embedding(vocab_size, d_model)(inputs)\n",
    "    embeddings *= tf.math.sqrt(tf.cast(d_model, tf.float32))\n",
    "\n",
    "    # 포지셔널 인코딩\n",
    "    embeddings = PositionalEncoding(vocab_size, d_model)(embeddings)\n",
    "\n",
    "    # Dropout이라는 훈련을 돕는 테크닉을 수행\n",
    "    outputs = tf.keras.layers.Dropout(rate=dropout)(embeddings)\n",
    "\n",
    "    for i in range(num_layers):\n",
    "        outputs = decoder_layer(\n",
    "                units=units,\n",
    "                d_model=d_model,\n",
    "                num_heads=num_heads,\n",
    "                dropout=dropout,\n",
    "                name='decoder_layer_{}'.format(i),\n",
    "            )(inputs=[outputs, enc_outputs, look_ahead_mask, padding_mask])\n",
    "\n",
    "    return tf.keras.Model(inputs=[inputs, enc_outputs, look_ahead_mask, padding_mask],\n",
    "                           outputs=outputs,\n",
    "                           name=name)"
   ]
  },
  {
   "cell_type": "code",
   "execution_count": 53,
   "id": "fe582254",
   "metadata": {},
   "outputs": [],
   "source": [
    "# 트랜스포머 함수\n",
    "def transformer(vocab_size,\n",
    "                num_layers,\n",
    "                units,\n",
    "                d_model,\n",
    "                num_heads,\n",
    "                dropout,\n",
    "                name=\"transformer\"):\n",
    "    inputs = tf.keras.Input(shape=(None,), name=\"inputs\")\n",
    "    dec_inputs = tf.keras.Input(shape=(None,), name=\"dec_inputs\")\n",
    "\n",
    "    # 인코더에서 패딩을 위한 마스크\n",
    "    enc_padding_mask = tf.keras.layers.Lambda(\n",
    "        create_padding_mask, output_shape=(1, 1, None),\n",
    "        name='enc_padding_mask')(inputs)\n",
    "\n",
    "    # 디코더에서 미래의 토큰을 마스크 하기 위해서 사용합니다.\n",
    "    # 내부적으로 패딩 마스크도 포함되어져 있습니다.\n",
    "    look_ahead_mask = tf.keras.layers.Lambda(\n",
    "        create_look_ahead_mask,\n",
    "        output_shape=(1, None, None),\n",
    "        name='look_ahead_mask')(dec_inputs)\n",
    "\n",
    "    # 두 번째 어텐션 블록에서 인코더의 벡터들을 마스킹\n",
    "    # 디코더에서 패딩을 위한 마스크\n",
    "    dec_padding_mask = tf.keras.layers.Lambda(\n",
    "        create_padding_mask, output_shape=(1, 1, None),\n",
    "        name='dec_padding_mask')(inputs)\n",
    "\n",
    "    # 인코더\n",
    "    enc_outputs = encoder(\n",
    "            vocab_size=vocab_size,\n",
    "            num_layers=num_layers,\n",
    "            units=units,\n",
    "            d_model=d_model,\n",
    "            num_heads=num_heads,\n",
    "            dropout=dropout,\n",
    "        )(inputs=[inputs, enc_padding_mask])\n",
    "\n",
    "    # 디코더\n",
    "    dec_outputs = decoder(\n",
    "            vocab_size=vocab_size,\n",
    "            num_layers=num_layers,\n",
    "            units=units,\n",
    "            d_model=d_model,\n",
    "            num_heads=num_heads,\n",
    "            dropout=dropout,\n",
    "        )(inputs=[dec_inputs, enc_outputs, look_ahead_mask, dec_padding_mask])\n",
    "\n",
    "    # 완전연결층\n",
    "    outputs = tf.keras.layers.Dense(units=vocab_size, name=\"outputs\")(dec_outputs)\n",
    "\n",
    "    return tf.keras.Model(inputs=[inputs, dec_inputs], outputs=outputs, name=name)"
   ]
  },
  {
   "cell_type": "code",
   "execution_count": 58,
   "id": "3f282f8a",
   "metadata": {},
   "outputs": [
    {
     "name": "stdout",
     "output_type": "stream",
     "text": [
      "Model: \"transformer\"\n",
      "__________________________________________________________________________________________________\n",
      "Layer (type)                    Output Shape         Param #     Connected to                     \n",
      "==================================================================================================\n",
      "inputs (InputLayer)             [(None, None)]       0                                            \n",
      "__________________________________________________________________________________________________\n",
      "dec_inputs (InputLayer)         [(None, None)]       0                                            \n",
      "__________________________________________________________________________________________________\n",
      "enc_padding_mask (Lambda)       (None, 1, 1, None)   0           inputs[0][0]                     \n",
      "__________________________________________________________________________________________________\n",
      "encoder (Functional)            (None, None, 256)    3146240     inputs[0][0]                     \n",
      "                                                                 enc_padding_mask[0][0]           \n",
      "__________________________________________________________________________________________________\n",
      "look_ahead_mask (Lambda)        (None, 1, None, None 0           dec_inputs[0][0]                 \n",
      "__________________________________________________________________________________________________\n",
      "dec_padding_mask (Lambda)       (None, 1, 1, None)   0           inputs[0][0]                     \n",
      "__________________________________________________________________________________________________\n",
      "decoder (Functional)            (None, None, 256)    3673600     dec_inputs[0][0]                 \n",
      "                                                                 encoder[0][0]                    \n",
      "                                                                 look_ahead_mask[0][0]            \n",
      "                                                                 dec_padding_mask[0][0]           \n",
      "__________________________________________________________________________________________________\n",
      "outputs (Dense)                 (None, None, 8172)   2100204     decoder[0][0]                    \n",
      "==================================================================================================\n",
      "Total params: 8,920,044\n",
      "Trainable params: 8,920,044\n",
      "Non-trainable params: 0\n",
      "__________________________________________________________________________________________________\n"
     ]
    }
   ],
   "source": [
    "tf.keras.backend.clear_session()\n",
    "\n",
    "# 하이퍼파라미터\n",
    "NUM_LAYERS = 2 # 인코더와 디코더의 층의 개수\n",
    "D_MODEL = 256 # 인코더와 디코더 내부의 입, 출력의 고정 차원\n",
    "NUM_HEADS = 8 # 멀티 헤드 어텐션에서의 헤드 수 \n",
    "UNITS = 512 # 피드 포워드 신경망의 은닉층의 크기\n",
    "DROPOUT = 0.1 # 드롭아웃의 비율\n",
    "\n",
    "model = transformer(\n",
    "    vocab_size=VOCAB_SIZE,\n",
    "    num_layers=NUM_LAYERS,\n",
    "    units=UNITS,\n",
    "    d_model=D_MODEL,\n",
    "    num_heads=NUM_HEADS,\n",
    "    dropout=DROPOUT)\n",
    "\n",
    "model.summary()"
   ]
  },
  {
   "cell_type": "code",
   "execution_count": 59,
   "id": "39b6c573",
   "metadata": {},
   "outputs": [],
   "source": [
    "def loss_function(y_true, y_pred):\n",
    "    y_true = tf.reshape(y_true, shape=(-1, MAX_LENGTH - 1))\n",
    "  \n",
    "    loss = tf.keras.losses.SparseCategoricalCrossentropy(\n",
    "        from_logits=True, reduction='none')(y_true, y_pred)\n",
    "\n",
    "    mask = tf.cast(tf.not_equal(y_true, 0), tf.float32)\n",
    "    loss = tf.multiply(loss, mask)\n",
    "\n",
    "    return tf.reduce_mean(loss)"
   ]
  },
  {
   "cell_type": "code",
   "execution_count": 60,
   "id": "90628d4e",
   "metadata": {},
   "outputs": [],
   "source": [
    "class CustomSchedule(tf.keras.optimizers.schedules.LearningRateSchedule):\n",
    "\n",
    "    def __init__(self, d_model, warmup_steps=4000):\n",
    "        super(CustomSchedule, self).__init__()\n",
    "\n",
    "        self.d_model = d_model\n",
    "        self.d_model = tf.cast(self.d_model, tf.float32)\n",
    "\n",
    "        self.warmup_steps = warmup_steps\n",
    "\n",
    "    def __call__(self, step):\n",
    "        arg1 = tf.math.rsqrt(step)\n",
    "        arg2 = step * (self.warmup_steps**-1.5)\n",
    "\n",
    "        return tf.math.rsqrt(self.d_model) * tf.math.minimum(arg1, arg2)"
   ]
  },
  {
   "cell_type": "code",
   "execution_count": 61,
   "id": "136002c3",
   "metadata": {},
   "outputs": [],
   "source": [
    "learning_rate = CustomSchedule(D_MODEL)\n",
    "\n",
    "optimizer = tf.keras.optimizers.Adam(\n",
    "    learning_rate, beta_1=0.9, beta_2=0.98, epsilon=1e-9)\n",
    "\n",
    "def accuracy(y_true, y_pred):\n",
    "    y_true = tf.reshape(y_true, shape=(-1, MAX_LENGTH - 1))\n",
    "    return tf.keras.metrics.sparse_categorical_accuracy(y_true, y_pred)\n",
    "\n",
    "model.compile(optimizer=optimizer, loss=loss_function, metrics=[accuracy])"
   ]
  },
  {
   "cell_type": "code",
   "execution_count": 62,
   "id": "f97bba5b",
   "metadata": {},
   "outputs": [
    {
     "name": "stdout",
     "output_type": "stream",
     "text": [
      "Epoch 1/10\n",
      "185/185 [==============================] - 14s 39ms/step - loss: 2.9520 - accuracy: 0.0658\n",
      "Epoch 2/10\n",
      "185/185 [==============================] - 7s 39ms/step - loss: 2.3902 - accuracy: 0.1029\n",
      "Epoch 3/10\n",
      "185/185 [==============================] - 7s 39ms/step - loss: 2.0395 - accuracy: 0.1054\n",
      "Epoch 4/10\n",
      "185/185 [==============================] - 7s 38ms/step - loss: 1.8890 - accuracy: 0.1129\n",
      "Epoch 5/10\n",
      "185/185 [==============================] - 7s 38ms/step - loss: 1.7713 - accuracy: 0.1194\n",
      "Epoch 6/10\n",
      "185/185 [==============================] - 7s 38ms/step - loss: 1.6505 - accuracy: 0.1282\n",
      "Epoch 7/10\n",
      "185/185 [==============================] - 7s 38ms/step - loss: 1.5160 - accuracy: 0.1404\n",
      "Epoch 8/10\n",
      "185/185 [==============================] - 7s 38ms/step - loss: 1.3673 - accuracy: 0.1563\n",
      "Epoch 9/10\n",
      "185/185 [==============================] - 7s 38ms/step - loss: 1.2069 - accuracy: 0.1734\n",
      "Epoch 10/10\n",
      "185/185 [==============================] - 7s 38ms/step - loss: 1.0395 - accuracy: 0.1922\n"
     ]
    }
   ],
   "source": [
    "EPOCHS = 10\n",
    "history = model.fit(dataset, epochs=EPOCHS, verbose=1)"
   ]
  },
  {
   "cell_type": "code",
   "execution_count": 79,
   "id": "94b5682c",
   "metadata": {},
   "outputs": [
    {
     "data": {
      "image/png": "[encoded data removed]",
      "text/plain": [
       "<Figure size 432x288 with 2 Axes>"
      ]
     },
     "metadata": {
      "needs_background": "light"
     },
     "output_type": "display_data"
    }
   ],
   "source": [
    "epochs = range(1, len(history.history['loss']) + 1)\n",
    "plt.subplot(1, 2, 1)\n",
    "plt.plot(epochs, history.history['loss'], label='loss')\n",
    "plt.legend()\n",
    "\n",
    "plt.subplot(1, 2, 2)\n",
    "plt.plot(epochs, history.history['accuracy'], label='accuracy')\n",
    "\n",
    "plt.legend()\n",
    "plt.show()"
   ]
  },
  {
   "cell_type": "markdown",
   "id": "dce308c1",
   "metadata": {},
   "source": [
    "## Step 5. 모델 평가하기"
   ]
  },
  {
   "cell_type": "code",
   "execution_count": 63,
   "id": "a104dedc",
   "metadata": {},
   "outputs": [],
   "source": [
    "def decoder_inference(sentence):\n",
    "    sentence = preprocess_sentence(sentence)\n",
    "\n",
    "    # 입력된 문장을 정수 인코딩 후, 시작 토큰과 종료 토큰을 앞뒤로 추가.\n",
    "    # ex) Where have you been? → [[8331   86   30    5 1059    7 8332]]\n",
    "    sentence = tf.expand_dims(START_TOKEN + tokenizer.encode(sentence) + END_TOKEN, axis=0)\n",
    "\n",
    "    # 디코더의 현재까지의 예측한 출력 시퀀스가 지속적으로 저장되는 변수.\n",
    "    # 처음에는 예측한 내용이 없음으로 시작 토큰만 별도 저장. ex) 8331\n",
    "    output_sequence = tf.expand_dims(START_TOKEN, 0)\n",
    "\n",
    "    # 디코더의 인퍼런스 단계\n",
    "    for i in range(MAX_LENGTH):\n",
    "        # 디코더는 최대 MAX_LENGTH의 길이만큼 다음 단어 예측을 반복합니다.\n",
    "        predictions = model(inputs=[sentence, output_sequence], training=False)\n",
    "        predictions = predictions[:, -1:, :]\n",
    "\n",
    "        # 현재 예측한 단어의 정수\n",
    "        predicted_id = tf.cast(tf.argmax(predictions, axis=-1), tf.int32)\n",
    "\n",
    "        # 만약 현재 예측한 단어가 종료 토큰이라면 for문을 종료\n",
    "        if tf.equal(predicted_id, END_TOKEN[0]):\n",
    "            break\n",
    "\n",
    "        # 예측한 단어들은 지속적으로 output_sequence에 추가됩니다.\n",
    "        # 이 output_sequence는 다시 디코더의 입력이 됩니다.\n",
    "        output_sequence = tf.concat([output_sequence, predicted_id], axis=-1)\n",
    "\n",
    "    return tf.squeeze(output_sequence, axis=0)"
   ]
  },
  {
   "cell_type": "code",
   "execution_count": 64,
   "id": "c81a1b13",
   "metadata": {},
   "outputs": [],
   "source": [
    "def sentence_generation(sentence):\n",
    "    # 입력 문장에 대해서 디코더를 동작 시켜 예측된 정수 시퀀스를 리턴받습니다.\n",
    "    prediction = decoder_inference(sentence)\n",
    "\n",
    "    # 정수 시퀀스를 다시 텍스트 시퀀스로 변환합니다.\n",
    "    predicted_sentence = tokenizer.decode([i for i in prediction if i < tokenizer.vocab_size])\n",
    "\n",
    "    print('입력 : {}'.format(sentence))\n",
    "    print('출력 : {}'.format(predicted_sentence))\n",
    "\n",
    "    return predicted_sentence"
   ]
  },
  {
   "cell_type": "code",
   "execution_count": 65,
   "id": "9c2fcbf3",
   "metadata": {},
   "outputs": [
    {
     "name": "stdout",
     "output_type": "stream",
     "text": [
      "입력 : 오늘 점심 뭐 먹지?\n",
      "출력 : 저는 위로해드리는 로봇이에요 . \n"
     ]
    },
    {
     "data": {
      "text/plain": [
       "'저는 위로해드리는 로봇이에요 . '"
      ]
     },
     "execution_count": 65,
     "metadata": {},
     "output_type": "execute_result"
    }
   ],
   "source": [
    "sentence_generation('오늘 점심 뭐 먹지?')"
   ]
  },
  {
   "cell_type": "code",
   "execution_count": 66,
   "id": "c79563bb",
   "metadata": {},
   "outputs": [
    {
     "name": "stdout",
     "output_type": "stream",
     "text": [
      "입력 : 요즘 좀 쉬고 싶어\n",
      "출력 : 제가 있잖아요 . \n"
     ]
    },
    {
     "data": {
      "text/plain": [
       "'제가 있잖아요 . '"
      ]
     },
     "execution_count": 66,
     "metadata": {},
     "output_type": "execute_result"
    }
   ],
   "source": [
    "sentence_generation('요즘 좀 쉬고 싶어')"
   ]
  },
  {
   "cell_type": "code",
   "execution_count": 67,
   "id": "2bf00989",
   "metadata": {},
   "outputs": [
    {
     "name": "stdout",
     "output_type": "stream",
     "text": [
      "입력 : 요즘따라 미래가 불투명하다는 생각을 자주 해\n",
      "출력 : 좀 더 알아보고 하세요 . \n"
     ]
    },
    {
     "data": {
      "text/plain": [
       "'좀 더 알아보고 하세요 . '"
      ]
     },
     "execution_count": 67,
     "metadata": {},
     "output_type": "execute_result"
    }
   ],
   "source": [
    "sentence_generation('요즘따라 미래가 불투명하다는 생각을 자주 해')"
   ]
  },
  {
   "cell_type": "code",
   "execution_count": 68,
   "id": "6136bbcc",
   "metadata": {},
   "outputs": [
    {
     "name": "stdout",
     "output_type": "stream",
     "text": [
      "입력 : 너 왜이렇게 까칠해\n",
      "출력 : 다른 곳에 쓰려고 운을 아껴뒀나봐요 . \n"
     ]
    },
    {
     "data": {
      "text/plain": [
       "'다른 곳에 쓰려고 운을 아껴뒀나봐요 . '"
      ]
     },
     "execution_count": 68,
     "metadata": {},
     "output_type": "execute_result"
    }
   ],
   "source": [
    "sentence_generation('너 왜이렇게 까칠해')"
   ]
  },
  {
   "cell_type": "code",
   "execution_count": 69,
   "id": "d4efbe38",
   "metadata": {},
   "outputs": [
    {
     "name": "stdout",
     "output_type": "stream",
     "text": [
      "입력 : 말은 못알아듣고 한국말만 잘하네 ㅠ\n",
      "출력 : 충분히 아파하고 있네요 . \n"
     ]
    },
    {
     "data": {
      "text/plain": [
       "'충분히 아파하고 있네요 . '"
      ]
     },
     "execution_count": 69,
     "metadata": {},
     "output_type": "execute_result"
    }
   ],
   "source": [
    "sentence_generation('말은 못알아듣고 한국말만 잘하네 ㅠ')"
   ]
  },
  {
   "cell_type": "markdown",
   "id": "0c4027e6",
   "metadata": {},
   "source": [
    "하이퍼 파라미터: \n",
    "NUM_LAYERS = 2   \n",
    "D_MODEL = 256   \n",
    "NUM_HEADS = 8  \n",
    "UNITS = 512   \n",
    "DROPOUT = 0.1   \n",
    "에폭 수: 10  \n",
    "결과 말은 자연스럽게 하지만 입력 말귀는 잘 못 알아듣는 것 같다. 에폭을 조금 더 늘려서 학습을 더 진행해봐도 좋을 것 같다."
   ]
  },
  {
   "cell_type": "markdown",
   "id": "051a8eda",
   "metadata": {},
   "source": [
    "### 1. 에폭 늘려 추가 학습 진행하기"
   ]
  },
  {
   "cell_type": "code",
   "execution_count": 80,
   "id": "25c4b643",
   "metadata": {},
   "outputs": [
    {
     "name": "stdout",
     "output_type": "stream",
     "text": [
      "Epoch 1/10\n",
      "185/185 [==============================] - 7s 39ms/step - loss: 0.8699 - accuracy: 0.2132\n",
      "Epoch 2/10\n",
      "185/185 [==============================] - 7s 39ms/step - loss: 0.7067 - accuracy: 0.2349\n",
      "Epoch 3/10\n",
      "185/185 [==============================] - 7s 39ms/step - loss: 0.5571 - accuracy: 0.2564\n",
      "Epoch 4/10\n",
      "185/185 [==============================] - 7s 38ms/step - loss: 0.4237 - accuracy: 0.2773\n",
      "Epoch 5/10\n",
      "185/185 [==============================] - 7s 38ms/step - loss: 0.3127 - accuracy: 0.2965\n",
      "Epoch 6/10\n",
      "185/185 [==============================] - 7s 38ms/step - loss: 0.2269 - accuracy: 0.3118\n",
      "Epoch 7/10\n",
      "185/185 [==============================] - 7s 38ms/step - loss: 0.1657 - accuracy: 0.3226\n",
      "Epoch 8/10\n",
      "185/185 [==============================] - 7s 38ms/step - loss: 0.1274 - accuracy: 0.3299\n",
      "Epoch 9/10\n",
      "185/185 [==============================] - 7s 38ms/step - loss: 0.1064 - accuracy: 0.3332\n",
      "Epoch 10/10\n",
      "185/185 [==============================] - 7s 38ms/step - loss: 0.0939 - accuracy: 0.3354\n"
     ]
    }
   ],
   "source": [
    "EPOCHS = 10\n",
    "history2 = model.fit(dataset, epochs=EPOCHS, verbose=1)"
   ]
  },
  {
   "cell_type": "code",
   "execution_count": 81,
   "id": "51468884",
   "metadata": {},
   "outputs": [
    {
     "name": "stdout",
     "output_type": "stream",
     "text": [
      "입력 : 오늘 점심 뭐 먹지?\n",
      "출력 : 색다른걸 드셔보세요 . \n"
     ]
    },
    {
     "data": {
      "text/plain": [
       "'색다른걸 드셔보세요 . '"
      ]
     },
     "execution_count": 81,
     "metadata": {},
     "output_type": "execute_result"
    }
   ],
   "source": [
    "sentence_generation('오늘 점심 뭐 먹지?')"
   ]
  },
  {
   "cell_type": "code",
   "execution_count": 82,
   "id": "7dfad435",
   "metadata": {},
   "outputs": [
    {
     "name": "stdout",
     "output_type": "stream",
     "text": [
      "입력 : 요즘 좀 쉬고 싶어\n",
      "출력 : 쓰지 않으면 모여요 . \n"
     ]
    },
    {
     "data": {
      "text/plain": [
       "'쓰지 않으면 모여요 . '"
      ]
     },
     "execution_count": 82,
     "metadata": {},
     "output_type": "execute_result"
    }
   ],
   "source": [
    "sentence_generation('요즘 좀 쉬고 싶어')"
   ]
  },
  {
   "cell_type": "code",
   "execution_count": 83,
   "id": "09398c26",
   "metadata": {},
   "outputs": [
    {
     "name": "stdout",
     "output_type": "stream",
     "text": [
      "입력 : 요즘따라 미래가 불투명하다는 생각을 자주 해\n",
      "출력 : 퐈이야\n"
     ]
    },
    {
     "data": {
      "text/plain": [
       "'퐈이야'"
      ]
     },
     "execution_count": 83,
     "metadata": {},
     "output_type": "execute_result"
    }
   ],
   "source": [
    "sentence_generation('요즘따라 미래가 불투명하다는 생각을 자주 해')"
   ]
  },
  {
   "cell_type": "code",
   "execution_count": 84,
   "id": "3fbcf4d9",
   "metadata": {},
   "outputs": [
    {
     "name": "stdout",
     "output_type": "stream",
     "text": [
      "입력 : 뭐가 문제인지 모르겠어\n",
      "출력 : 당신은 하나밖에 없는 소중한 사람이에요 . \n"
     ]
    },
    {
     "data": {
      "text/plain": [
       "'당신은 하나밖에 없는 소중한 사람이에요 . '"
      ]
     },
     "execution_count": 84,
     "metadata": {},
     "output_type": "execute_result"
    }
   ],
   "source": [
    "sentence_generation('뭐가 문제인지 모르겠어')"
   ]
  },
  {
   "cell_type": "code",
   "execution_count": 85,
   "id": "626e8781",
   "metadata": {},
   "outputs": [
    {
     "name": "stdout",
     "output_type": "stream",
     "text": [
      "입력 : 오늘 점심 뭐 먹지?\n",
      "출력 : 색다른걸 드셔보세요 . \n"
     ]
    },
    {
     "data": {
      "text/plain": [
       "'색다른걸 드셔보세요 . '"
      ]
     },
     "execution_count": 85,
     "metadata": {},
     "output_type": "execute_result"
    }
   ],
   "source": [
    "sentence_generation('오늘 점심 뭐 먹지?')"
   ]
  },
  {
   "cell_type": "markdown",
   "id": "60f32876",
   "metadata": {},
   "source": [
    "'오늘 점심 뭐 먹지?'에 대한 답변은 납득이가고 질문을 이해한 뉘앙스  \n",
    "하지만 여전히 다른 질문은 제대로 알아듣지 못했음"
   ]
  },
  {
   "cell_type": "code",
   "execution_count": 86,
   "id": "b70bf678",
   "metadata": {},
   "outputs": [
    {
     "name": "stdout",
     "output_type": "stream",
     "text": [
      "Epoch 1/10\n",
      "185/185 [==============================] - 7s 39ms/step - loss: 0.0874 - accuracy: 0.3366\n",
      "Epoch 2/10\n",
      "185/185 [==============================] - 7s 39ms/step - loss: 0.0851 - accuracy: 0.3365\n",
      "Epoch 3/10\n",
      "185/185 [==============================] - 7s 39ms/step - loss: 0.0754 - accuracy: 0.3387\n",
      "Epoch 4/10\n",
      "185/185 [==============================] - 7s 38ms/step - loss: 0.0657 - accuracy: 0.3412\n",
      "Epoch 5/10\n",
      "185/185 [==============================] - 7s 38ms/step - loss: 0.0564 - accuracy: 0.3431\n",
      "Epoch 6/10\n",
      "185/185 [==============================] - 7s 38ms/step - loss: 0.0513 - accuracy: 0.3446\n",
      "Epoch 7/10\n",
      "185/185 [==============================] - 7s 38ms/step - loss: 0.0453 - accuracy: 0.3460\n",
      "Epoch 8/10\n",
      "185/185 [==============================] - 7s 38ms/step - loss: 0.0419 - accuracy: 0.3470\n",
      "Epoch 9/10\n",
      "185/185 [==============================] - 7s 38ms/step - loss: 0.0390 - accuracy: 0.3476\n",
      "Epoch 10/10\n",
      "185/185 [==============================] - 7s 38ms/step - loss: 0.0339 - accuracy: 0.3492\n"
     ]
    }
   ],
   "source": [
    "EPOCHS = 10\n",
    "history2 = model.fit(dataset, epochs=EPOCHS, verbose=1)"
   ]
  },
  {
   "cell_type": "code",
   "execution_count": 87,
   "id": "32fbc409",
   "metadata": {},
   "outputs": [
    {
     "name": "stdout",
     "output_type": "stream",
     "text": [
      "입력 : 오늘 점심 뭐 먹지?\n",
      "출력 : 맛있는 거 드세요 . \n"
     ]
    },
    {
     "data": {
      "text/plain": [
       "'맛있는 거 드세요 . '"
      ]
     },
     "execution_count": 87,
     "metadata": {},
     "output_type": "execute_result"
    }
   ],
   "source": [
    "sentence_generation('오늘 점심 뭐 먹지?')"
   ]
  },
  {
   "cell_type": "code",
   "execution_count": 89,
   "id": "5a9bf0aa",
   "metadata": {},
   "outputs": [
    {
     "name": "stdout",
     "output_type": "stream",
     "text": [
      "입력 : 요즘 좀 쉬고 싶어\n",
      "출력 : 바람 쐬고 와서 다시 들으세요 . \n"
     ]
    },
    {
     "data": {
      "text/plain": [
       "'바람 쐬고 와서 다시 들으세요 . '"
      ]
     },
     "execution_count": 89,
     "metadata": {},
     "output_type": "execute_result"
    }
   ],
   "source": [
    "sentence_generation('요즘 좀 쉬고 싶어')"
   ]
  },
  {
   "cell_type": "code",
   "execution_count": 90,
   "id": "6a581bcc",
   "metadata": {},
   "outputs": [
    {
     "name": "stdout",
     "output_type": "stream",
     "text": [
      "입력 : 요즘따라 미래가 불투명하다는 생각을 자주 해\n",
      "출력 : 많이 고민 했을거라 생각해요 . \n"
     ]
    },
    {
     "data": {
      "text/plain": [
       "'많이 고민 했을거라 생각해요 . '"
      ]
     },
     "execution_count": 90,
     "metadata": {},
     "output_type": "execute_result"
    }
   ],
   "source": [
    "sentence_generation('요즘따라 미래가 불투명하다는 생각을 자주 해')"
   ]
  },
  {
   "cell_type": "code",
   "execution_count": 91,
   "id": "b281fb7f",
   "metadata": {},
   "outputs": [
    {
     "name": "stdout",
     "output_type": "stream",
     "text": [
      "입력 : 뭐가 문제인지 모르겠어\n",
      "출력 : 당신은 하나밖에 없는 소중한 사람이에요 . \n"
     ]
    },
    {
     "data": {
      "text/plain": [
       "'당신은 하나밖에 없는 소중한 사람이에요 . '"
      ]
     },
     "execution_count": 91,
     "metadata": {},
     "output_type": "execute_result"
    }
   ],
   "source": [
    "sentence_generation('뭐가 문제인지 모르겠어')"
   ]
  },
  {
   "cell_type": "markdown",
   "id": "6ee3a0a0",
   "metadata": {},
   "source": [
    "에폭 총 30  \n",
    "확실히 반응이 좋아진 것이 느껴진다. 맥락있는 대답을 내놓기 시작했다."
   ]
  },
  {
   "cell_type": "code",
   "execution_count": 92,
   "id": "bc72710a",
   "metadata": {},
   "outputs": [
    {
     "name": "stdout",
     "output_type": "stream",
     "text": [
      "Epoch 1/10\n",
      "185/185 [==============================] - 7s 39ms/step - loss: 0.0312 - accuracy: 0.3497\n",
      "Epoch 2/10\n",
      "185/185 [==============================] - 7s 39ms/step - loss: 0.0294 - accuracy: 0.3501\n",
      "Epoch 3/10\n",
      "185/185 [==============================] - 7s 38ms/step - loss: 0.0273 - accuracy: 0.3505\n",
      "Epoch 4/10\n",
      "185/185 [==============================] - 7s 38ms/step - loss: 0.0253 - accuracy: 0.3512\n",
      "Epoch 5/10\n",
      "185/185 [==============================] - 7s 38ms/step - loss: 0.0237 - accuracy: 0.3514\n",
      "Epoch 6/10\n",
      "185/185 [==============================] - 7s 38ms/step - loss: 0.0227 - accuracy: 0.3520\n",
      "Epoch 7/10\n",
      "185/185 [==============================] - 7s 37ms/step - loss: 0.0207 - accuracy: 0.3524\n",
      "Epoch 8/10\n",
      "185/185 [==============================] - 7s 38ms/step - loss: 0.0202 - accuracy: 0.3524\n",
      "Epoch 9/10\n",
      "185/185 [==============================] - 7s 38ms/step - loss: 0.0185 - accuracy: 0.3528\n",
      "Epoch 10/10\n",
      "185/185 [==============================] - 7s 38ms/step - loss: 0.0172 - accuracy: 0.3531\n"
     ]
    }
   ],
   "source": [
    "EPOCHS = 10\n",
    "history2 = model.fit(dataset, epochs=EPOCHS, verbose=1)"
   ]
  },
  {
   "cell_type": "code",
   "execution_count": 93,
   "id": "22b34c5a",
   "metadata": {},
   "outputs": [
    {
     "name": "stdout",
     "output_type": "stream",
     "text": [
      "입력 : 오늘 점심 뭐 먹지?\n",
      "출력 : 맛있는 거 드세요 . \n"
     ]
    },
    {
     "data": {
      "text/plain": [
       "'맛있는 거 드세요 . '"
      ]
     },
     "execution_count": 93,
     "metadata": {},
     "output_type": "execute_result"
    }
   ],
   "source": [
    "sentence_generation('오늘 점심 뭐 먹지?')"
   ]
  },
  {
   "cell_type": "code",
   "execution_count": 94,
   "id": "a06d311c",
   "metadata": {},
   "outputs": [
    {
     "name": "stdout",
     "output_type": "stream",
     "text": [
      "입력 : 요즘 좀 쉬고 싶어\n",
      "출력 : 아무 생각 하지 말고 쉬세요 . \n"
     ]
    },
    {
     "data": {
      "text/plain": [
       "'아무 생각 하지 말고 쉬세요 . '"
      ]
     },
     "execution_count": 94,
     "metadata": {},
     "output_type": "execute_result"
    }
   ],
   "source": [
    "sentence_generation('요즘 좀 쉬고 싶어')"
   ]
  },
  {
   "cell_type": "code",
   "execution_count": 95,
   "id": "ff7cf2ee",
   "metadata": {},
   "outputs": [
    {
     "name": "stdout",
     "output_type": "stream",
     "text": [
      "입력 : 요즘따라 미래가 불투명하다는 생각을 자주 해\n",
      "출력 : 여차진구가 싫어할 일은 애초에 하지 마세요 . \n"
     ]
    },
    {
     "data": {
      "text/plain": [
       "'여차진구가 싫어할 일은 애초에 하지 마세요 . '"
      ]
     },
     "execution_count": 95,
     "metadata": {},
     "output_type": "execute_result"
    }
   ],
   "source": [
    "sentence_generation('요즘따라 미래가 불투명하다는 생각을 자주 해')"
   ]
  },
  {
   "cell_type": "code",
   "execution_count": 96,
   "id": "64b2f516",
   "metadata": {},
   "outputs": [
    {
     "name": "stdout",
     "output_type": "stream",
     "text": [
      "입력 : 뭐가 문제인지 모르겠어\n",
      "출력 : 당신은 하나밖에 없는 소중한 사람이에요 . \n"
     ]
    },
    {
     "data": {
      "text/plain": [
       "'당신은 하나밖에 없는 소중한 사람이에요 . '"
      ]
     },
     "execution_count": 96,
     "metadata": {},
     "output_type": "execute_result"
    }
   ],
   "source": [
    "sentence_generation('뭐가 문제인지 모르겠어')"
   ]
  },
  {
   "cell_type": "markdown",
   "id": "4114594b",
   "metadata": {},
   "source": [
    "에폭 총 40  \n",
    "1, 4 문장은 그 전과 똑같았고, 2는 미묘하게 이전보다 답변이 나아진 것 같고 3은 또다시 엉뚱한 이야기를 하기 시작했다. 뭔가 기준 문장을 더 잘 세웠으면 좋았을 걸이라는 생각이 지금 들었다 ㅎㅎ\n"
   ]
  },
  {
   "cell_type": "code",
   "execution_count": 97,
   "id": "1b4701cc",
   "metadata": {},
   "outputs": [
    {
     "name": "stdout",
     "output_type": "stream",
     "text": [
      "Epoch 1/10\n",
      "185/185 [==============================] - 7s 39ms/step - loss: 0.0173 - accuracy: 0.3530\n",
      "Epoch 2/10\n",
      "185/185 [==============================] - 7s 40ms/step - loss: 0.0165 - accuracy: 0.3534\n",
      "Epoch 3/10\n",
      "185/185 [==============================] - 7s 38ms/step - loss: 0.0152 - accuracy: 0.3537\n",
      "Epoch 4/10\n",
      "185/185 [==============================] - 7s 38ms/step - loss: 0.0146 - accuracy: 0.3538\n",
      "Epoch 5/10\n",
      "185/185 [==============================] - 7s 38ms/step - loss: 0.0141 - accuracy: 0.3540\n",
      "Epoch 6/10\n",
      "185/185 [==============================] - 7s 38ms/step - loss: 0.0134 - accuracy: 0.3542\n",
      "Epoch 7/10\n",
      "185/185 [==============================] - 7s 38ms/step - loss: 0.0129 - accuracy: 0.3542\n",
      "Epoch 8/10\n",
      "185/185 [==============================] - 7s 38ms/step - loss: 0.0116 - accuracy: 0.3546\n",
      "Epoch 9/10\n",
      "185/185 [==============================] - 7s 38ms/step - loss: 0.0109 - accuracy: 0.3547\n",
      "Epoch 10/10\n",
      "185/185 [==============================] - 7s 38ms/step - loss: 0.0116 - accuracy: 0.3546\n"
     ]
    }
   ],
   "source": [
    "EPOCHS = 10\n",
    "history2 = model.fit(dataset, epochs=EPOCHS, verbose=1)"
   ]
  },
  {
   "cell_type": "code",
   "execution_count": 98,
   "id": "e1aa1904",
   "metadata": {},
   "outputs": [
    {
     "name": "stdout",
     "output_type": "stream",
     "text": [
      "입력 : 오늘 점심 뭐 먹지?\n",
      "출력 : 맛있는 거 드세요 . \n"
     ]
    },
    {
     "data": {
      "text/plain": [
       "'맛있는 거 드세요 . '"
      ]
     },
     "execution_count": 98,
     "metadata": {},
     "output_type": "execute_result"
    }
   ],
   "source": [
    "sentence_generation('오늘 점심 뭐 먹지?')"
   ]
  },
  {
   "cell_type": "code",
   "execution_count": 99,
   "id": "1ff1b7bd",
   "metadata": {},
   "outputs": [
    {
     "name": "stdout",
     "output_type": "stream",
     "text": [
      "입력 : 요즘 좀 쉬고 싶어\n",
      "출력 : 정신 차리세요 . \n"
     ]
    },
    {
     "data": {
      "text/plain": [
       "'정신 차리세요 . '"
      ]
     },
     "execution_count": 99,
     "metadata": {},
     "output_type": "execute_result"
    }
   ],
   "source": [
    "sentence_generation('요즘 좀 쉬고 싶어')"
   ]
  },
  {
   "cell_type": "code",
   "execution_count": 100,
   "id": "9bdd212e",
   "metadata": {},
   "outputs": [
    {
     "name": "stdout",
     "output_type": "stream",
     "text": [
      "입력 : 요즘따라 미래가 불투명하다는 생각을 자주 해\n",
      "출력 : 자연스러운 현상이에요 . \n"
     ]
    },
    {
     "data": {
      "text/plain": [
       "'자연스러운 현상이에요 . '"
      ]
     },
     "execution_count": 100,
     "metadata": {},
     "output_type": "execute_result"
    }
   ],
   "source": [
    "sentence_generation('요즘따라 미래가 불투명하다는 생각을 자주 해')"
   ]
  },
  {
   "cell_type": "code",
   "execution_count": 101,
   "id": "1857444b",
   "metadata": {},
   "outputs": [
    {
     "name": "stdout",
     "output_type": "stream",
     "text": [
      "입력 : 뭐가 문제인지 모르겠어\n",
      "출력 : 당신은 하나밖에 없는 소중한 사람이에요 . \n"
     ]
    },
    {
     "data": {
      "text/plain": [
       "'당신은 하나밖에 없는 소중한 사람이에요 . '"
      ]
     },
     "execution_count": 101,
     "metadata": {},
     "output_type": "execute_result"
    }
   ],
   "source": [
    "sentence_generation('뭐가 문제인지 모르겠어')"
   ]
  },
  {
   "cell_type": "markdown",
   "id": "a51e6162",
   "metadata": {},
   "source": [
    "에폭 총 50\n",
    "2번 문장에서 정신차리라는 소리를 들었다. 답변의 변화나 accuracy의 변화가 거의 없는 것을 보면 학습을 더 진행해도 더 이상 크게 나아지는 부분은 없을 것 같다"
   ]
  },
  {
   "cell_type": "markdown",
   "id": "4caf3cfe",
   "metadata": {},
   "source": [
    "### 모델의 깊이 늘리기"
   ]
  },
  {
   "cell_type": "code",
   "execution_count": 103,
   "id": "417115ce",
   "metadata": {},
   "outputs": [
    {
     "name": "stdout",
     "output_type": "stream",
     "text": [
      "Model: \"transformer\"\n",
      "__________________________________________________________________________________________________\n",
      "Layer (type)                    Output Shape         Param #     Connected to                     \n",
      "==================================================================================================\n",
      "inputs (InputLayer)             [(None, None)]       0                                            \n",
      "__________________________________________________________________________________________________\n",
      "dec_inputs (InputLayer)         [(None, None)]       0                                            \n",
      "__________________________________________________________________________________________________\n",
      "enc_padding_mask (Lambda)       (None, 1, 1, None)   0           inputs[0][0]                     \n",
      "__________________________________________________________________________________________________\n",
      "encoder (Functional)            (None, None, 512)    13651968    inputs[0][0]                     \n",
      "                                                                 enc_padding_mask[0][0]           \n",
      "__________________________________________________________________________________________________\n",
      "look_ahead_mask (Lambda)        (None, 1, None, None 0           dec_inputs[0][0]                 \n",
      "__________________________________________________________________________________________________\n",
      "dec_padding_mask (Lambda)       (None, 1, 1, None)   0           inputs[0][0]                     \n",
      "__________________________________________________________________________________________________\n",
      "decoder (Functional)            (None, None, 512)    19961856    dec_inputs[0][0]                 \n",
      "                                                                 encoder[0][0]                    \n",
      "                                                                 look_ahead_mask[0][0]            \n",
      "                                                                 dec_padding_mask[0][0]           \n",
      "__________________________________________________________________________________________________\n",
      "outputs (Dense)                 (None, None, 8172)   4192236     decoder[0][0]                    \n",
      "==================================================================================================\n",
      "Total params: 37,806,060\n",
      "Trainable params: 37,806,060\n",
      "Non-trainable params: 0\n",
      "__________________________________________________________________________________________________\n"
     ]
    }
   ],
   "source": [
    "tf.keras.backend.clear_session()\n",
    "\n",
    "# 하이퍼파라미터\n",
    "NUM_LAYERS = 6 # 인코더와 디코더의 층의 개수\n",
    "D_MODEL = 512 # 인코더와 디코더 내부의 입, 출력의 고정 차원\n",
    "NUM_HEADS = 8 # 멀티 헤드 어텐션에서의 헤드 수 \n",
    "UNITS = 512 # 피드 포워드 신경망의 은닉층의 크기\n",
    "DROPOUT = 0.2 # 드롭아웃의 비율\n",
    "\n",
    "model = transformer(\n",
    "    vocab_size=VOCAB_SIZE,\n",
    "    num_layers=NUM_LAYERS,\n",
    "    units=UNITS,\n",
    "    d_model=D_MODEL,\n",
    "    num_heads=NUM_HEADS,\n",
    "    dropout=DROPOUT)\n",
    "\n",
    "model.summary()"
   ]
  },
  {
   "cell_type": "code",
   "execution_count": 105,
   "id": "47407768",
   "metadata": {},
   "outputs": [],
   "source": [
    "learning_rate = CustomSchedule(D_MODEL)\n",
    "\n",
    "optimizer = tf.keras.optimizers.Adam(\n",
    "    learning_rate, beta_1=0.9, beta_2=0.98, epsilon=1e-9)\n",
    "\n",
    "def accuracy(y_true, y_pred):\n",
    "    y_true = tf.reshape(y_true, shape=(-1, MAX_LENGTH - 1))\n",
    "    return tf.keras.metrics.sparse_categorical_accuracy(y_true, y_pred)\n",
    "\n",
    "model.compile(optimizer=optimizer, loss=loss_function, metrics=[accuracy])"
   ]
  },
  {
   "cell_type": "code",
   "execution_count": 106,
   "id": "7f514b2b",
   "metadata": {},
   "outputs": [
    {
     "name": "stdout",
     "output_type": "stream",
     "text": [
      "Epoch 1/30\n",
      "185/185 [==============================] - 40s 128ms/step - loss: 2.7595 - accuracy: 0.0467\n",
      "Epoch 2/30\n",
      "185/185 [==============================] - 24s 132ms/step - loss: 2.2293 - accuracy: 0.0913\n",
      "Epoch 3/30\n",
      "185/185 [==============================] - 24s 130ms/step - loss: 2.0320 - accuracy: 0.1041\n",
      "Epoch 4/30\n",
      "185/185 [==============================] - 24s 129ms/step - loss: 1.9380 - accuracy: 0.1068\n",
      "Epoch 5/30\n",
      "185/185 [==============================] - 24s 130ms/step - loss: 1.8828 - accuracy: 0.1101\n",
      "Epoch 6/30\n",
      "185/185 [==============================] - 24s 130ms/step - loss: 1.8320 - accuracy: 0.1128\n",
      "Epoch 7/30\n",
      "185/185 [==============================] - 24s 131ms/step - loss: 1.7749 - accuracy: 0.1158\n",
      "Epoch 8/30\n",
      "185/185 [==============================] - 24s 129ms/step - loss: 1.7200 - accuracy: 0.1182\n",
      "Epoch 9/30\n",
      "185/185 [==============================] - 24s 130ms/step - loss: 1.6689 - accuracy: 0.1207\n",
      "Epoch 10/30\n",
      "185/185 [==============================] - 24s 130ms/step - loss: 1.6180 - accuracy: 0.1231\n",
      "Epoch 11/30\n",
      "185/185 [==============================] - 24s 130ms/step - loss: 1.5640 - accuracy: 0.1256\n",
      "Epoch 12/30\n",
      "185/185 [==============================] - 24s 130ms/step - loss: 1.5070 - accuracy: 0.1286\n",
      "Epoch 13/30\n",
      "185/185 [==============================] - 24s 130ms/step - loss: 1.4540 - accuracy: 0.1320\n",
      "Epoch 14/30\n",
      "185/185 [==============================] - 24s 128ms/step - loss: 1.4029 - accuracy: 0.1347\n",
      "Epoch 15/30\n",
      "185/185 [==============================] - 24s 129ms/step - loss: 1.3484 - accuracy: 0.1387\n",
      "Epoch 16/30\n",
      "185/185 [==============================] - 24s 129ms/step - loss: 1.3042 - accuracy: 0.1424\n",
      "Epoch 17/30\n",
      "185/185 [==============================] - 24s 128ms/step - loss: 1.2548 - accuracy: 0.1463\n",
      "Epoch 18/30\n",
      "185/185 [==============================] - 24s 128ms/step - loss: 1.2090 - accuracy: 0.1504\n",
      "Epoch 19/30\n",
      "185/185 [==============================] - 24s 128ms/step - loss: 1.1689 - accuracy: 0.1531\n",
      "Epoch 20/30\n",
      "185/185 [==============================] - 24s 128ms/step - loss: 1.1248 - accuracy: 0.1579\n",
      "Epoch 21/30\n",
      "185/185 [==============================] - 24s 128ms/step - loss: 1.0831 - accuracy: 0.1624\n",
      "Epoch 22/30\n",
      "185/185 [==============================] - 24s 129ms/step - loss: 1.0468 - accuracy: 0.1663\n",
      "Epoch 23/30\n",
      "185/185 [==============================] - 24s 129ms/step - loss: 0.9976 - accuracy: 0.1723\n",
      "Epoch 24/30\n",
      "185/185 [==============================] - 24s 128ms/step - loss: 0.9522 - accuracy: 0.1785\n",
      "Epoch 25/30\n",
      "185/185 [==============================] - 24s 128ms/step - loss: 0.8996 - accuracy: 0.1858\n",
      "Epoch 26/30\n",
      "185/185 [==============================] - 24s 129ms/step - loss: 0.8566 - accuracy: 0.1923\n",
      "Epoch 27/30\n",
      "185/185 [==============================] - 24s 128ms/step - loss: 0.8184 - accuracy: 0.1972\n",
      "Epoch 28/30\n",
      "185/185 [==============================] - 24s 128ms/step - loss: 0.7841 - accuracy: 0.2034\n",
      "Epoch 29/30\n",
      "185/185 [==============================] - 24s 128ms/step - loss: 0.7485 - accuracy: 0.2092\n",
      "Epoch 30/30\n",
      "185/185 [==============================] - 24s 128ms/step - loss: 0.7195 - accuracy: 0.2139\n"
     ]
    }
   ],
   "source": [
    "EPOCHS = 30\n",
    "history = model.fit(dataset, epochs=EPOCHS, verbose=1)"
   ]
  },
  {
   "cell_type": "code",
   "execution_count": 107,
   "id": "aebd5efb",
   "metadata": {},
   "outputs": [
    {
     "name": "stdout",
     "output_type": "stream",
     "text": [
      "입력 : 오늘 점심 뭐 먹지?\n",
      "출력 : 같이 가보세요 . \n"
     ]
    },
    {
     "data": {
      "text/plain": [
       "'같이 가보세요 . '"
      ]
     },
     "execution_count": 107,
     "metadata": {},
     "output_type": "execute_result"
    }
   ],
   "source": [
    "sentence_generation('오늘 점심 뭐 먹지?')"
   ]
  },
  {
   "cell_type": "code",
   "execution_count": 108,
   "id": "149c9077",
   "metadata": {},
   "outputs": [
    {
     "name": "stdout",
     "output_type": "stream",
     "text": [
      "입력 : 요즘 좀 쉬고 싶어\n",
      "출력 : 감기 조심하세요 . \n"
     ]
    },
    {
     "data": {
      "text/plain": [
       "'감기 조심하세요 . '"
      ]
     },
     "execution_count": 108,
     "metadata": {},
     "output_type": "execute_result"
    }
   ],
   "source": [
    "sentence_generation('요즘 좀 쉬고 싶어')"
   ]
  },
  {
   "cell_type": "code",
   "execution_count": 109,
   "id": "5fe637da",
   "metadata": {},
   "outputs": [
    {
     "name": "stdout",
     "output_type": "stream",
     "text": [
      "입력 : 요즘따라 미래가 불투명하다는 생각을 자주 해\n",
      "출력 : 직접 물어보세요 . \n"
     ]
    },
    {
     "data": {
      "text/plain": [
       "'직접 물어보세요 . '"
      ]
     },
     "execution_count": 109,
     "metadata": {},
     "output_type": "execute_result"
    }
   ],
   "source": [
    "sentence_generation('요즘따라 미래가 불투명하다는 생각을 자주 해')"
   ]
  },
  {
   "cell_type": "code",
   "execution_count": 110,
   "id": "2149dd2b",
   "metadata": {},
   "outputs": [
    {
     "name": "stdout",
     "output_type": "stream",
     "text": [
      "입력 : 뭐가 문제인지 모르겠어\n",
      "출력 : 그 사람을 위해서는 그러면 안돼요 . \n"
     ]
    },
    {
     "data": {
      "text/plain": [
       "'그 사람을 위해서는 그러면 안돼요 . '"
      ]
     },
     "execution_count": 110,
     "metadata": {},
     "output_type": "execute_result"
    }
   ],
   "source": [
    "sentence_generation('뭐가 문제인지 모르겠어')"
   ]
  },
  {
   "cell_type": "markdown",
   "id": "6dd35ca7",
   "metadata": {},
   "source": [
    "에폭 총 30  \n",
    "로스가 여전히 높고 정확도도 낮음 학습을 좀 더 진행할 필요가 있어 보임  \n",
    "문장에 대한 대답도 전반적으로 맥락을 이해하고 있지 않음"
   ]
  },
  {
   "cell_type": "code",
   "execution_count": 111,
   "id": "66d74598",
   "metadata": {},
   "outputs": [
    {
     "name": "stdout",
     "output_type": "stream",
     "text": [
      "Epoch 1/30\n",
      "185/185 [==============================] - 24s 130ms/step - loss: 0.6904 - accuracy: 0.2187\n",
      "Epoch 2/30\n",
      "185/185 [==============================] - 24s 129ms/step - loss: 0.6614 - accuracy: 0.2238\n",
      "Epoch 3/30\n",
      "185/185 [==============================] - 23s 127ms/step - loss: 0.6415 - accuracy: 0.2272\n",
      "Epoch 4/30\n",
      "185/185 [==============================] - 24s 128ms/step - loss: 0.6237 - accuracy: 0.2308\n",
      "Epoch 5/30\n",
      "185/185 [==============================] - 24s 128ms/step - loss: 0.5998 - accuracy: 0.2347\n",
      "Epoch 6/30\n",
      "185/185 [==============================] - 24s 128ms/step - loss: 0.5929 - accuracy: 0.2360\n",
      "Epoch 7/30\n",
      "185/185 [==============================] - 24s 127ms/step - loss: 0.5692 - accuracy: 0.2404\n",
      "Epoch 8/30\n",
      "185/185 [==============================] - 24s 129ms/step - loss: 0.5581 - accuracy: 0.2431\n",
      "Epoch 9/30\n",
      "185/185 [==============================] - 24s 129ms/step - loss: 0.5374 - accuracy: 0.2469\n",
      "Epoch 10/30\n",
      "185/185 [==============================] - 24s 128ms/step - loss: 0.5250 - accuracy: 0.2484\n",
      "Epoch 11/30\n",
      "185/185 [==============================] - 24s 128ms/step - loss: 0.5125 - accuracy: 0.2513\n",
      "Epoch 12/30\n",
      "185/185 [==============================] - 24s 128ms/step - loss: 0.4980 - accuracy: 0.2537\n",
      "Epoch 13/30\n",
      "185/185 [==============================] - 24s 128ms/step - loss: 0.4913 - accuracy: 0.2551\n",
      "Epoch 14/30\n",
      "185/185 [==============================] - 24s 128ms/step - loss: 0.4812 - accuracy: 0.2570\n",
      "Epoch 15/30\n",
      "185/185 [==============================] - 24s 128ms/step - loss: 0.4707 - accuracy: 0.2596\n",
      "Epoch 16/30\n",
      "185/185 [==============================] - 24s 128ms/step - loss: 0.4645 - accuracy: 0.2604\n",
      "Epoch 17/30\n",
      "185/185 [==============================] - 24s 128ms/step - loss: 0.4541 - accuracy: 0.2626\n",
      "Epoch 18/30\n",
      "185/185 [==============================] - 24s 129ms/step - loss: 0.4453 - accuracy: 0.2644\n",
      "Epoch 19/30\n",
      "185/185 [==============================] - 24s 127ms/step - loss: 0.4388 - accuracy: 0.2655\n",
      "Epoch 20/30\n",
      "185/185 [==============================] - 24s 127ms/step - loss: 0.4323 - accuracy: 0.2664\n",
      "Epoch 21/30\n",
      "185/185 [==============================] - 24s 128ms/step - loss: 0.4273 - accuracy: 0.2681\n",
      "Epoch 22/30\n",
      "185/185 [==============================] - 24s 128ms/step - loss: 0.4193 - accuracy: 0.2693\n",
      "Epoch 23/30\n",
      "185/185 [==============================] - 24s 128ms/step - loss: 0.4156 - accuracy: 0.2696\n",
      "Epoch 24/30\n",
      "185/185 [==============================] - 24s 128ms/step - loss: 0.4110 - accuracy: 0.2709\n",
      "Epoch 25/30\n",
      "185/185 [==============================] - 24s 128ms/step - loss: 0.4059 - accuracy: 0.2715\n",
      "Epoch 26/30\n",
      "185/185 [==============================] - 24s 128ms/step - loss: 0.3996 - accuracy: 0.2733\n",
      "Epoch 27/30\n",
      "185/185 [==============================] - 24s 128ms/step - loss: 0.3951 - accuracy: 0.2739\n",
      "Epoch 28/30\n",
      "185/185 [==============================] - 24s 127ms/step - loss: 0.3938 - accuracy: 0.2744\n",
      "Epoch 29/30\n",
      "185/185 [==============================] - 24s 127ms/step - loss: 0.3862 - accuracy: 0.2753\n",
      "Epoch 30/30\n",
      "185/185 [==============================] - 23s 127ms/step - loss: 0.3818 - accuracy: 0.2762\n"
     ]
    }
   ],
   "source": [
    "EPOCHS = 30\n",
    "history = model.fit(dataset, epochs=EPOCHS, verbose=1)"
   ]
  },
  {
   "cell_type": "code",
   "execution_count": 112,
   "id": "9cd0d39b",
   "metadata": {},
   "outputs": [
    {
     "name": "stdout",
     "output_type": "stream",
     "text": [
      "입력 : 오늘 점심 뭐 먹지?\n",
      "출력 : 뭘 해도 예뻐요 . \n"
     ]
    },
    {
     "data": {
      "text/plain": [
       "'뭘 해도 예뻐요 . '"
      ]
     },
     "execution_count": 112,
     "metadata": {},
     "output_type": "execute_result"
    }
   ],
   "source": [
    "sentence_generation('오늘 점심 뭐 먹지?')"
   ]
  },
  {
   "cell_type": "code",
   "execution_count": 113,
   "id": "2500257f",
   "metadata": {},
   "outputs": [
    {
     "name": "stdout",
     "output_type": "stream",
     "text": [
      "입력 : 요즘 좀 쉬고 싶어\n",
      "출력 : 제습기를 돌려보세요 . \n"
     ]
    },
    {
     "data": {
      "text/plain": [
       "'제습기를 돌려보세요 . '"
      ]
     },
     "execution_count": 113,
     "metadata": {},
     "output_type": "execute_result"
    }
   ],
   "source": [
    "sentence_generation('요즘 좀 쉬고 싶어')"
   ]
  },
  {
   "cell_type": "code",
   "execution_count": 114,
   "id": "87b45c0a",
   "metadata": {},
   "outputs": [
    {
     "name": "stdout",
     "output_type": "stream",
     "text": [
      "입력 : 요즘따라 미래가 불투명하다는 생각을 자주 해\n",
      "출력 : 상황이 원하지 않는 방향으로 흘렀나봐요 . \n"
     ]
    },
    {
     "data": {
      "text/plain": [
       "'상황이 원하지 않는 방향으로 흘렀나봐요 . '"
      ]
     },
     "execution_count": 114,
     "metadata": {},
     "output_type": "execute_result"
    }
   ],
   "source": [
    "sentence_generation('요즘따라 미래가 불투명하다는 생각을 자주 해')"
   ]
  },
  {
   "cell_type": "code",
   "execution_count": 115,
   "id": "e4c0a023",
   "metadata": {},
   "outputs": [
    {
     "name": "stdout",
     "output_type": "stream",
     "text": [
      "입력 : 뭐가 문제인지 모르겠어\n",
      "출력 : 형편대로 하세요 . \n"
     ]
    },
    {
     "data": {
      "text/plain": [
       "'형편대로 하세요 . '"
      ]
     },
     "execution_count": 115,
     "metadata": {},
     "output_type": "execute_result"
    }
   ],
   "source": [
    "sentence_generation('뭐가 문제인지 모르겠어')"
   ]
  },
  {
   "cell_type": "markdown",
   "id": "f13fc9a8",
   "metadata": {},
   "source": [
    "에폭 총 60  \n",
    "로스와 어큐러시가 역시 원하는 만큼 떨어지거나 올라가지 않았다  \n",
    "답변 역시 전체적으로 맥락을 파악하고 있지 못하는 것 같은데 3번 문장 정도만 제대로 대답했다고 보여진다"
   ]
  },
  {
   "cell_type": "code",
   "execution_count": 116,
   "id": "ceb70423",
   "metadata": {},
   "outputs": [
    {
     "name": "stdout",
     "output_type": "stream",
     "text": [
      "Epoch 1/30\n",
      "185/185 [==============================] - 24s 130ms/step - loss: 0.3843 - accuracy: 0.2756\n",
      "Epoch 2/30\n",
      "185/185 [==============================] - 24s 128ms/step - loss: 0.3733 - accuracy: 0.2775\n",
      "Epoch 3/30\n",
      "185/185 [==============================] - 23s 127ms/step - loss: 0.3717 - accuracy: 0.2784\n",
      "Epoch 4/30\n",
      "185/185 [==============================] - 24s 128ms/step - loss: 0.3696 - accuracy: 0.2781\n",
      "Epoch 5/30\n",
      "185/185 [==============================] - 24s 128ms/step - loss: 0.3680 - accuracy: 0.2780\n",
      "Epoch 6/30\n",
      "185/185 [==============================] - 24s 127ms/step - loss: 0.3640 - accuracy: 0.2794\n",
      "Epoch 7/30\n",
      "185/185 [==============================] - 24s 127ms/step - loss: 0.3603 - accuracy: 0.2800\n",
      "Epoch 8/30\n",
      "185/185 [==============================] - 24s 127ms/step - loss: 0.3575 - accuracy: 0.2801\n",
      "Epoch 9/30\n",
      "185/185 [==============================] - 24s 129ms/step - loss: 0.3538 - accuracy: 0.2809\n",
      "Epoch 10/30\n",
      "185/185 [==============================] - 24s 128ms/step - loss: 0.3529 - accuracy: 0.2814\n",
      "Epoch 11/30\n",
      "185/185 [==============================] - 24s 128ms/step - loss: 0.3475 - accuracy: 0.2825\n",
      "Epoch 12/30\n",
      "185/185 [==============================] - 24s 127ms/step - loss: 0.3416 - accuracy: 0.2835\n",
      "Epoch 13/30\n",
      "185/185 [==============================] - 24s 127ms/step - loss: 0.3445 - accuracy: 0.2834\n",
      "Epoch 14/30\n",
      "185/185 [==============================] - 24s 127ms/step - loss: 0.3408 - accuracy: 0.2841\n",
      "Epoch 15/30\n",
      "185/185 [==============================] - 24s 127ms/step - loss: 0.3345 - accuracy: 0.2848\n",
      "Epoch 16/30\n",
      "185/185 [==============================] - 24s 127ms/step - loss: 0.3355 - accuracy: 0.2846\n",
      "Epoch 17/30\n",
      "185/185 [==============================] - 24s 127ms/step - loss: 0.3318 - accuracy: 0.2856\n",
      "Epoch 18/30\n",
      "185/185 [==============================] - 24s 127ms/step - loss: 0.3296 - accuracy: 0.2855\n",
      "Epoch 19/30\n",
      "185/185 [==============================] - 23s 127ms/step - loss: 0.3290 - accuracy: 0.2857\n",
      "Epoch 20/30\n",
      "185/185 [==============================] - 23s 127ms/step - loss: 0.3261 - accuracy: 0.2866\n",
      "Epoch 21/30\n",
      "185/185 [==============================] - 24s 127ms/step - loss: 0.3247 - accuracy: 0.2863\n",
      "Epoch 22/30\n",
      "185/185 [==============================] - 24s 128ms/step - loss: 0.3219 - accuracy: 0.2872\n",
      "Epoch 23/30\n",
      "185/185 [==============================] - 24s 127ms/step - loss: 0.3177 - accuracy: 0.2879\n",
      "Epoch 24/30\n",
      "185/185 [==============================] - 24s 127ms/step - loss: 0.3177 - accuracy: 0.2876\n",
      "Epoch 25/30\n",
      "185/185 [==============================] - 24s 127ms/step - loss: 0.3163 - accuracy: 0.2882\n",
      "Epoch 26/30\n",
      "185/185 [==============================] - 24s 127ms/step - loss: 0.3145 - accuracy: 0.2880\n",
      "Epoch 27/30\n",
      "185/185 [==============================] - 24s 127ms/step - loss: 0.3130 - accuracy: 0.2889\n",
      "Epoch 28/30\n",
      "185/185 [==============================] - 24s 127ms/step - loss: 0.3122 - accuracy: 0.2888\n",
      "Epoch 29/30\n",
      "185/185 [==============================] - 24s 127ms/step - loss: 0.3093 - accuracy: 0.2894\n",
      "Epoch 30/30\n",
      "185/185 [==============================] - 24s 127ms/step - loss: 0.3056 - accuracy: 0.2900\n"
     ]
    }
   ],
   "source": [
    "EPOCHS = 30\n",
    "history = model.fit(dataset, epochs=EPOCHS, verbose=1)"
   ]
  },
  {
   "cell_type": "code",
   "execution_count": 117,
   "id": "74a90fc6",
   "metadata": {},
   "outputs": [
    {
     "name": "stdout",
     "output_type": "stream",
     "text": [
      "Epoch 1/30\n",
      "185/185 [==============================] - 24s 132ms/step - loss: 0.3074 - accuracy: 0.2897\n",
      "Epoch 2/30\n",
      "185/185 [==============================] - 24s 129ms/step - loss: 0.3058 - accuracy: 0.2897\n",
      "Epoch 3/30\n",
      "185/185 [==============================] - 23s 127ms/step - loss: 0.3021 - accuracy: 0.2905\n",
      "Epoch 4/30\n",
      "185/185 [==============================] - 24s 129ms/step - loss: 0.2985 - accuracy: 0.2909\n",
      "Epoch 5/30\n",
      "185/185 [==============================] - 24s 128ms/step - loss: 0.2995 - accuracy: 0.2912\n",
      "Epoch 6/30\n",
      "185/185 [==============================] - 24s 128ms/step - loss: 0.2944 - accuracy: 0.2919\n",
      "Epoch 7/30\n",
      "185/185 [==============================] - 24s 128ms/step - loss: 0.2971 - accuracy: 0.2915\n",
      "Epoch 8/30\n",
      "185/185 [==============================] - 24s 129ms/step - loss: 0.2947 - accuracy: 0.2918\n",
      "Epoch 9/30\n",
      "185/185 [==============================] - 24s 128ms/step - loss: 0.2939 - accuracy: 0.2920\n",
      "Epoch 10/30\n",
      "185/185 [==============================] - 24s 128ms/step - loss: 0.2894 - accuracy: 0.2927\n",
      "Epoch 11/30\n",
      "185/185 [==============================] - 24s 129ms/step - loss: 0.2904 - accuracy: 0.2924\n",
      "Epoch 12/30\n",
      "185/185 [==============================] - 24s 128ms/step - loss: 0.2869 - accuracy: 0.2931\n",
      "Epoch 13/30\n",
      "185/185 [==============================] - 24s 128ms/step - loss: 0.2858 - accuracy: 0.2936\n",
      "Epoch 14/30\n",
      "185/185 [==============================] - 24s 128ms/step - loss: 0.2854 - accuracy: 0.2935\n",
      "Epoch 15/30\n",
      "185/185 [==============================] - 24s 127ms/step - loss: 0.2852 - accuracy: 0.2937\n",
      "Epoch 16/30\n",
      "185/185 [==============================] - 24s 128ms/step - loss: 0.2842 - accuracy: 0.2934\n",
      "Epoch 17/30\n",
      "185/185 [==============================] - 24s 128ms/step - loss: 0.2799 - accuracy: 0.2940\n",
      "Epoch 18/30\n",
      "185/185 [==============================] - 24s 127ms/step - loss: 0.2817 - accuracy: 0.2938\n",
      "Epoch 19/30\n",
      "185/185 [==============================] - 24s 127ms/step - loss: 0.2785 - accuracy: 0.2944\n",
      "Epoch 20/30\n",
      "185/185 [==============================] - 24s 128ms/step - loss: 0.2792 - accuracy: 0.2941\n",
      "Epoch 21/30\n",
      "185/185 [==============================] - 24s 127ms/step - loss: 0.2768 - accuracy: 0.2946\n",
      "Epoch 22/30\n",
      "185/185 [==============================] - 24s 127ms/step - loss: 0.2760 - accuracy: 0.2952\n",
      "Epoch 23/30\n",
      "185/185 [==============================] - 24s 129ms/step - loss: 0.2750 - accuracy: 0.2952\n",
      "Epoch 24/30\n",
      "185/185 [==============================] - 24s 129ms/step - loss: 0.2741 - accuracy: 0.2954\n",
      "Epoch 25/30\n",
      "185/185 [==============================] - 24s 128ms/step - loss: 0.2732 - accuracy: 0.2954\n",
      "Epoch 26/30\n",
      "185/185 [==============================] - 24s 128ms/step - loss: 0.2715 - accuracy: 0.2953\n",
      "Epoch 27/30\n",
      "185/185 [==============================] - 24s 128ms/step - loss: 0.2688 - accuracy: 0.2962\n",
      "Epoch 28/30\n",
      "185/185 [==============================] - 24s 128ms/step - loss: 0.2707 - accuracy: 0.2962\n",
      "Epoch 29/30\n",
      "185/185 [==============================] - 24s 128ms/step - loss: 0.2689 - accuracy: 0.2961\n",
      "Epoch 30/30\n",
      "185/185 [==============================] - 24s 128ms/step - loss: 0.2672 - accuracy: 0.2958\n"
     ]
    }
   ],
   "source": [
    "EPOCHS = 30\n",
    "history = model.fit(dataset, epochs=EPOCHS, verbose=1)"
   ]
  },
  {
   "cell_type": "code",
   "execution_count": 118,
   "id": "efaa868e",
   "metadata": {},
   "outputs": [
    {
     "name": "stdout",
     "output_type": "stream",
     "text": [
      "입력 : 오늘 점심 뭐 먹지?\n",
      "출력 : 색다른걸 드셔보세요 . \n"
     ]
    },
    {
     "data": {
      "text/plain": [
       "'색다른걸 드셔보세요 . '"
      ]
     },
     "execution_count": 118,
     "metadata": {},
     "output_type": "execute_result"
    }
   ],
   "source": [
    "sentence_generation('오늘 점심 뭐 먹지?')"
   ]
  },
  {
   "cell_type": "code",
   "execution_count": 119,
   "id": "1c3c0979",
   "metadata": {},
   "outputs": [
    {
     "name": "stdout",
     "output_type": "stream",
     "text": [
      "입력 : 요즘 좀 쉬고 싶어\n",
      "출력 : 아무 생각 하지 말고 쉬세요 . \n"
     ]
    },
    {
     "data": {
      "text/plain": [
       "'아무 생각 하지 말고 쉬세요 . '"
      ]
     },
     "execution_count": 119,
     "metadata": {},
     "output_type": "execute_result"
    }
   ],
   "source": [
    "sentence_generation('요즘 좀 쉬고 싶어')"
   ]
  },
  {
   "cell_type": "code",
   "execution_count": 120,
   "id": "daf21e78",
   "metadata": {},
   "outputs": [
    {
     "name": "stdout",
     "output_type": "stream",
     "text": [
      "입력 : 요즘따라 미래가 불투명하다는 생각을 자주 해\n",
      "출력 : 운명의 장난같네요 . \n"
     ]
    },
    {
     "data": {
      "text/plain": [
       "'운명의 장난같네요 . '"
      ]
     },
     "execution_count": 120,
     "metadata": {},
     "output_type": "execute_result"
    }
   ],
   "source": [
    "sentence_generation('요즘따라 미래가 불투명하다는 생각을 자주 해')"
   ]
  },
  {
   "cell_type": "code",
   "execution_count": 121,
   "id": "65f1c8ff",
   "metadata": {},
   "outputs": [
    {
     "name": "stdout",
     "output_type": "stream",
     "text": [
      "입력 : 뭐가 문제인지 모르겠어\n",
      "출력 : 마음에 부는 바람인지 살펴보세요 . \n"
     ]
    },
    {
     "data": {
      "text/plain": [
       "'마음에 부는 바람인지 살펴보세요 . '"
      ]
     },
     "execution_count": 121,
     "metadata": {},
     "output_type": "execute_result"
    }
   ],
   "source": [
    "sentence_generation('뭐가 문제인지 모르겠어')"
   ]
  },
  {
   "cell_type": "code",
   "execution_count": null,
   "id": "48cc5007",
   "metadata": {},
   "outputs": [],
   "source": []
  }
 ],
 "metadata": {
  "kernelspec": {
   "display_name": "Python 3 (ipykernel)",
   "language": "python",
   "name": "python3"
  },
  "language_info": {
   "codemirror_mode": {
    "name": "ipython",
    "version": 3
   },
   "file_extension": ".py",
   "mimetype": "text/x-python",
   "name": "python",
   "nbconvert_exporter": "python",
   "pygments_lexer": "ipython3",
   "version": "3.9.7"
  }
 },
 "nbformat": 4,
 "nbformat_minor": 5
}
