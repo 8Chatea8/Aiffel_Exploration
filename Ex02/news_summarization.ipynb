{
 "cells": [
  {
   "cell_type": "markdown",
   "id": "def796c4",
   "metadata": {},
   "source": [
    "# 뉴스 기사 요약봇 만들기"
   ]
  },
  {
   "cell_type": "markdown",
   "id": "4d21f094",
   "metadata": {},
   "source": [
    "## Step 1. 데이터 수집하기\n",
    "뉴스 기사 데이터 출처: (https://github.com/sunnysai12345/News_Summary)"
   ]
  },
  {
   "cell_type": "code",
   "execution_count": 1,
   "id": "0b237287",
   "metadata": {},
   "outputs": [
    {
     "name": "stderr",
     "output_type": "stream",
     "text": [
      "[nltk_data] Downloading package stopwords to /aiffel/nltk_data...\n",
      "[nltk_data]   Unzipping corpora/stopwords.zip.\n"
     ]
    }
   ],
   "source": [
    "import numpy as np\n",
    "import pandas as pd\n",
    "import tensorflow as tf\n",
    "import matplotlib.pyplot as plt\n",
    "\n",
    "import re\n",
    "import summa\n",
    "from nltk.corpus import stopwords\n",
    "from bs4 import BeautifulSoup\n",
    "import nltk\n",
    "nltk.download('stopwords')\n",
    "\n",
    "import urllib.request"
   ]
  },
  {
   "cell_type": "code",
   "execution_count": 2,
   "id": "9e8cf94f",
   "metadata": {},
   "outputs": [],
   "source": [
    "urllib.request.urlretrieve(\"https://raw.githubusercontent.com/sunnysai12345/News_Summary/master/news_summary_more.csv\", filename=\"news_summary_more.csv\")\n",
    "data = pd.read_csv('news_summary_more.csv', encoding='iso-8859-1')"
   ]
  },
  {
   "cell_type": "code",
   "execution_count": 3,
   "id": "a7a6ddc9",
   "metadata": {},
   "outputs": [
    {
     "data": {
      "text/html": [
       "<div>\n",
       "<style scoped>\n",
       "    .dataframe tbody tr th:only-of-type {\n",
       "        vertical-align: middle;\n",
       "    }\n",
       "\n",
       "    .dataframe tbody tr th {\n",
       "        vertical-align: top;\n",
       "    }\n",
       "\n",
       "    .dataframe thead th {\n",
       "        text-align: right;\n",
       "    }\n",
       "</style>\n",
       "<table border=\"1\" class=\"dataframe\">\n",
       "  <thead>\n",
       "    <tr style=\"text-align: right;\">\n",
       "      <th></th>\n",
       "      <th>headlines</th>\n",
       "      <th>text</th>\n",
       "    </tr>\n",
       "  </thead>\n",
       "  <tbody>\n",
       "    <tr>\n",
       "      <th>0</th>\n",
       "      <td>upGrad learner switches to career in ML &amp; Al w...</td>\n",
       "      <td>Saurav Kant, an alumnus of upGrad and IIIT-B's...</td>\n",
       "    </tr>\n",
       "    <tr>\n",
       "      <th>1</th>\n",
       "      <td>Delhi techie wins free food from Swiggy for on...</td>\n",
       "      <td>Kunal Shah's credit card bill payment platform...</td>\n",
       "    </tr>\n",
       "    <tr>\n",
       "      <th>2</th>\n",
       "      <td>New Zealand end Rohit Sharma-led India's 12-ma...</td>\n",
       "      <td>New Zealand defeated India by 8 wickets in the...</td>\n",
       "    </tr>\n",
       "    <tr>\n",
       "      <th>3</th>\n",
       "      <td>Aegon life iTerm insurance plan helps customer...</td>\n",
       "      <td>With Aegon Life iTerm Insurance plan, customer...</td>\n",
       "    </tr>\n",
       "    <tr>\n",
       "      <th>4</th>\n",
       "      <td>Have known Hirani for yrs, what if MeToo claim...</td>\n",
       "      <td>Speaking about the sexual harassment allegatio...</td>\n",
       "    </tr>\n",
       "  </tbody>\n",
       "</table>\n",
       "</div>"
      ],
      "text/plain": [
       "                                           headlines  \\\n",
       "0  upGrad learner switches to career in ML & Al w...   \n",
       "1  Delhi techie wins free food from Swiggy for on...   \n",
       "2  New Zealand end Rohit Sharma-led India's 12-ma...   \n",
       "3  Aegon life iTerm insurance plan helps customer...   \n",
       "4  Have known Hirani for yrs, what if MeToo claim...   \n",
       "\n",
       "                                                text  \n",
       "0  Saurav Kant, an alumnus of upGrad and IIIT-B's...  \n",
       "1  Kunal Shah's credit card bill payment platform...  \n",
       "2  New Zealand defeated India by 8 wickets in the...  \n",
       "3  With Aegon Life iTerm Insurance plan, customer...  \n",
       "4  Speaking about the sexual harassment allegatio...  "
      ]
     },
     "execution_count": 3,
     "metadata": {},
     "output_type": "execute_result"
    }
   ],
   "source": [
    "data.head()"
   ]
  },
  {
   "cell_type": "code",
   "execution_count": 4,
   "id": "7ede7afb",
   "metadata": {},
   "outputs": [
    {
     "data": {
      "text/html": [
       "<div>\n",
       "<style scoped>\n",
       "    .dataframe tbody tr th:only-of-type {\n",
       "        vertical-align: middle;\n",
       "    }\n",
       "\n",
       "    .dataframe tbody tr th {\n",
       "        vertical-align: top;\n",
       "    }\n",
       "\n",
       "    .dataframe thead th {\n",
       "        text-align: right;\n",
       "    }\n",
       "</style>\n",
       "<table border=\"1\" class=\"dataframe\">\n",
       "  <thead>\n",
       "    <tr style=\"text-align: right;\">\n",
       "      <th></th>\n",
       "      <th>headlines</th>\n",
       "      <th>text</th>\n",
       "    </tr>\n",
       "  </thead>\n",
       "  <tbody>\n",
       "    <tr>\n",
       "      <th>89927</th>\n",
       "      <td>Sushmita shares pics in dress to talk about bo...</td>\n",
       "      <td>Actress Sushmita Sen has shared pictures of he...</td>\n",
       "    </tr>\n",
       "    <tr>\n",
       "      <th>12380</th>\n",
       "      <td>Japanese journalist held hostage in Syria free...</td>\n",
       "      <td>Japanese journalist Jumpei Yasuda held hostage...</td>\n",
       "    </tr>\n",
       "    <tr>\n",
       "      <th>872</th>\n",
       "      <td>Missing radioactive isotope found in scrapyard...</td>\n",
       "      <td>A container of radioactive isotope Cs-137, whi...</td>\n",
       "    </tr>\n",
       "    <tr>\n",
       "      <th>90303</th>\n",
       "      <td>Telangana allots 1000 sq yd plot to PV Sindhu ...</td>\n",
       "      <td>The Telangana government has allotted a 1,000 ...</td>\n",
       "    </tr>\n",
       "    <tr>\n",
       "      <th>32021</th>\n",
       "      <td>Rahane's omission from ODI squad harsh decisio...</td>\n",
       "      <td>Former India captain Sourav Ganguly has said t...</td>\n",
       "    </tr>\n",
       "    <tr>\n",
       "      <th>12879</th>\n",
       "      <td>I've become star but I don't want to believe i...</td>\n",
       "      <td>Ayushmann Khurrana said he knows he has become...</td>\n",
       "    </tr>\n",
       "    <tr>\n",
       "      <th>7347</th>\n",
       "      <td>Don't want to react: Priyanka on article calli...</td>\n",
       "      <td>Priyanka Chopra, on being asked about the arti...</td>\n",
       "    </tr>\n",
       "    <tr>\n",
       "      <th>25491</th>\n",
       "      <td>Dhoni carries ball after series loss, sparks r...</td>\n",
       "      <td>Former Team India captain MS Dhoni was spotted...</td>\n",
       "    </tr>\n",
       "    <tr>\n",
       "      <th>29243</th>\n",
       "      <td>50% ownership of Domino's Pizza was once trade...</td>\n",
       "      <td>Domino's Pizza Co-founder James Monaghan in 19...</td>\n",
       "    </tr>\n",
       "    <tr>\n",
       "      <th>17119</th>\n",
       "      <td>Vodafone &amp; Idea come together to create IndiaÃ...</td>\n",
       "      <td>Vodafone India and Idea Cellular have come tog...</td>\n",
       "    </tr>\n",
       "  </tbody>\n",
       "</table>\n",
       "</div>"
      ],
      "text/plain": [
       "                                               headlines  \\\n",
       "89927  Sushmita shares pics in dress to talk about bo...   \n",
       "12380  Japanese journalist held hostage in Syria free...   \n",
       "872    Missing radioactive isotope found in scrapyard...   \n",
       "90303  Telangana allots 1000 sq yd plot to PV Sindhu ...   \n",
       "32021  Rahane's omission from ODI squad harsh decisio...   \n",
       "12879  I've become star but I don't want to believe i...   \n",
       "7347   Don't want to react: Priyanka on article calli...   \n",
       "25491  Dhoni carries ball after series loss, sparks r...   \n",
       "29243  50% ownership of Domino's Pizza was once trade...   \n",
       "17119  Vodafone & Idea come together to create IndiaÃ...   \n",
       "\n",
       "                                                    text  \n",
       "89927  Actress Sushmita Sen has shared pictures of he...  \n",
       "12380  Japanese journalist Jumpei Yasuda held hostage...  \n",
       "872    A container of radioactive isotope Cs-137, whi...  \n",
       "90303  The Telangana government has allotted a 1,000 ...  \n",
       "32021  Former India captain Sourav Ganguly has said t...  \n",
       "12879  Ayushmann Khurrana said he knows he has become...  \n",
       "7347   Priyanka Chopra, on being asked about the arti...  \n",
       "25491  Former Team India captain MS Dhoni was spotted...  \n",
       "29243  Domino's Pizza Co-founder James Monaghan in 19...  \n",
       "17119  Vodafone India and Idea Cellular have come tog...  "
      ]
     },
     "execution_count": 4,
     "metadata": {},
     "output_type": "execute_result"
    }
   ],
   "source": [
    "data.sample(10)"
   ]
  },
  {
   "cell_type": "code",
   "execution_count": 5,
   "id": "2db26d7c",
   "metadata": {},
   "outputs": [
    {
     "data": {
      "text/plain": [
       "98401"
      ]
     },
     "execution_count": 5,
     "metadata": {},
     "output_type": "execute_result"
    }
   ],
   "source": [
    "len(data)"
   ]
  },
  {
   "cell_type": "markdown",
   "id": "70888ada",
   "metadata": {},
   "source": [
    "## Step 2. 데이터 전처리하기 (추상적 요약)"
   ]
  },
  {
   "cell_type": "markdown",
   "id": "649e2685",
   "metadata": {},
   "source": [
    "### 중복 샘플과 Null 값 제거하기"
   ]
  },
  {
   "cell_type": "code",
   "execution_count": 6,
   "id": "4fa3a6df",
   "metadata": {},
   "outputs": [
    {
     "name": "stdout",
     "output_type": "stream",
     "text": [
      "headlines 열에서 중복 배제한 샘플 수:  98280\n",
      "text 열에서 중복 배제한 샘플 수:  98360\n"
     ]
    }
   ],
   "source": [
    "print('headlines 열에서 중복 배제한 샘플 수: ',data['headlines'].nunique())\n",
    "print('text 열에서 중복 배제한 샘플 수: ',data['text'].nunique())"
   ]
  },
  {
   "cell_type": "code",
   "execution_count": 7,
   "id": "bf71f170",
   "metadata": {},
   "outputs": [
    {
     "name": "stdout",
     "output_type": "stream",
     "text": [
      "text 열에서 중복 제외한 전체 샘플 수:  98360\n"
     ]
    }
   ],
   "source": [
    "data.drop_duplicates(subset = ['text'], inplace=True)\n",
    "print('text 열에서 중복 제외한 전체 샘플 수: ', len(data))"
   ]
  },
  {
   "cell_type": "code",
   "execution_count": 8,
   "id": "7707b320",
   "metadata": {},
   "outputs": [
    {
     "name": "stdout",
     "output_type": "stream",
     "text": [
      "headlines    0\n",
      "text         0\n",
      "dtype: int64\n"
     ]
    }
   ],
   "source": [
    "print(data.isnull().sum())"
   ]
  },
  {
   "cell_type": "markdown",
   "id": "28c9255d",
   "metadata": {},
   "source": [
    "### 텍스트 정규화와 불용어 제거"
   ]
  },
  {
   "cell_type": "code",
   "execution_count": 9,
   "id": "a47fc8e1",
   "metadata": {},
   "outputs": [
    {
     "name": "stdout",
     "output_type": "stream",
     "text": [
      "정규화 사전의 수:  120\n"
     ]
    }
   ],
   "source": [
    "contractions = {\"ain't\": \"is not\", \"aren't\": \"are not\",\"can't\": \"cannot\", \"'cause\": \"because\", \"could've\": \"could have\", \"couldn't\": \"could not\",\n",
    "                           \"didn't\": \"did not\",  \"doesn't\": \"does not\", \"don't\": \"do not\", \"hadn't\": \"had not\", \"hasn't\": \"has not\", \"haven't\": \"have not\",\n",
    "                           \"he'd\": \"he would\",\"he'll\": \"he will\", \"he's\": \"he is\", \"how'd\": \"how did\", \"how'd'y\": \"how do you\", \"how'll\": \"how will\", \"how's\": \"how is\",\n",
    "                           \"I'd\": \"I would\", \"I'd've\": \"I would have\", \"I'll\": \"I will\", \"I'll've\": \"I will have\",\"I'm\": \"I am\", \"I've\": \"I have\", \"i'd\": \"i would\",\n",
    "                           \"i'd've\": \"i would have\", \"i'll\": \"i will\",  \"i'll've\": \"i will have\",\"i'm\": \"i am\", \"i've\": \"i have\", \"isn't\": \"is not\", \"it'd\": \"it would\",\n",
    "                           \"it'd've\": \"it would have\", \"it'll\": \"it will\", \"it'll've\": \"it will have\",\"it's\": \"it is\", \"let's\": \"let us\", \"ma'am\": \"madam\",\n",
    "                           \"mayn't\": \"may not\", \"might've\": \"might have\",\"mightn't\": \"might not\",\"mightn't've\": \"might not have\", \"must've\": \"must have\",\n",
    "                           \"mustn't\": \"must not\", \"mustn't've\": \"must not have\", \"needn't\": \"need not\", \"needn't've\": \"need not have\",\"o'clock\": \"of the clock\",\n",
    "                           \"oughtn't\": \"ought not\", \"oughtn't've\": \"ought not have\", \"shan't\": \"shall not\", \"sha'n't\": \"shall not\", \"shan't've\": \"shall not have\",\n",
    "                           \"she'd\": \"she would\", \"she'd've\": \"she would have\", \"she'll\": \"she will\", \"she'll've\": \"she will have\", \"she's\": \"she is\",\n",
    "                           \"should've\": \"should have\", \"shouldn't\": \"should not\", \"shouldn't've\": \"should not have\", \"so've\": \"so have\",\"so's\": \"so as\",\n",
    "                           \"this's\": \"this is\",\"that'd\": \"that would\", \"that'd've\": \"that would have\", \"that's\": \"that is\", \"there'd\": \"there would\",\n",
    "                           \"there'd've\": \"there would have\", \"there's\": \"there is\", \"here's\": \"here is\",\"they'd\": \"they would\", \"they'd've\": \"they would have\",\n",
    "                           \"they'll\": \"they will\", \"they'll've\": \"they will have\", \"they're\": \"they are\", \"they've\": \"they have\", \"to've\": \"to have\",\n",
    "                           \"wasn't\": \"was not\", \"we'd\": \"we would\", \"we'd've\": \"we would have\", \"we'll\": \"we will\", \"we'll've\": \"we will have\", \"we're\": \"we are\",\n",
    "                           \"we've\": \"we have\", \"weren't\": \"were not\", \"what'll\": \"what will\", \"what'll've\": \"what will have\", \"what're\": \"what are\",\n",
    "                           \"what's\": \"what is\", \"what've\": \"what have\", \"when's\": \"when is\", \"when've\": \"when have\", \"where'd\": \"where did\", \"where's\": \"where is\",\n",
    "                           \"where've\": \"where have\", \"who'll\": \"who will\", \"who'll've\": \"who will have\", \"who's\": \"who is\", \"who've\": \"who have\",\n",
    "                           \"why's\": \"why is\", \"why've\": \"why have\", \"will've\": \"will have\", \"won't\": \"will not\", \"won't've\": \"will not have\",\n",
    "                           \"would've\": \"would have\", \"wouldn't\": \"would not\", \"wouldn't've\": \"would not have\", \"y'all\": \"you all\",\n",
    "                           \"y'all'd\": \"you all would\",\"y'all'd've\": \"you all would have\",\"y'all're\": \"you all are\",\"y'all've\": \"you all have\",\n",
    "                           \"you'd\": \"you would\", \"you'd've\": \"you would have\", \"you'll\": \"you will\", \"you'll've\": \"you will have\",\n",
    "                           \"you're\": \"you are\", \"you've\": \"you have\"}\n",
    "\n",
    "print(\"정규화 사전의 수: \", len(contractions))"
   ]
  },
  {
   "cell_type": "code",
   "execution_count": 10,
   "id": "f8c3f582",
   "metadata": {},
   "outputs": [
    {
     "name": "stdout",
     "output_type": "stream",
     "text": [
      "불용어 개수 : 179\n",
      "['i', 'me', 'my', 'myself', 'we', 'our', 'ours', 'ourselves', 'you', \"you're\", \"you've\", \"you'll\", \"you'd\", 'your', 'yours', 'yourself', 'yourselves', 'he', 'him', 'his', 'himself', 'she', \"she's\", 'her', 'hers', 'herself', 'it', \"it's\", 'its', 'itself', 'they', 'them', 'their', 'theirs', 'themselves', 'what', 'which', 'who', 'whom', 'this', 'that', \"that'll\", 'these', 'those', 'am', 'is', 'are', 'was', 'were', 'be', 'been', 'being', 'have', 'has', 'had', 'having', 'do', 'does', 'did', 'doing', 'a', 'an', 'the', 'and', 'but', 'if', 'or', 'because', 'as', 'until', 'while', 'of', 'at', 'by', 'for', 'with', 'about', 'against', 'between', 'into', 'through', 'during', 'before', 'after', 'above', 'below', 'to', 'from', 'up', 'down', 'in', 'out', 'on', 'off', 'over', 'under', 'again', 'further', 'then', 'once', 'here', 'there', 'when', 'where', 'why', 'how', 'all', 'any', 'both', 'each', 'few', 'more', 'most', 'other', 'some', 'such', 'no', 'nor', 'not', 'only', 'own', 'same', 'so', 'than', 'too', 'very', 's', 't', 'can', 'will', 'just', 'don', \"don't\", 'should', \"should've\", 'now', 'd', 'll', 'm', 'o', 're', 've', 'y', 'ain', 'aren', \"aren't\", 'couldn', \"couldn't\", 'didn', \"didn't\", 'doesn', \"doesn't\", 'hadn', \"hadn't\", 'hasn', \"hasn't\", 'haven', \"haven't\", 'isn', \"isn't\", 'ma', 'mightn', \"mightn't\", 'mustn', \"mustn't\", 'needn', \"needn't\", 'shan', \"shan't\", 'shouldn', \"shouldn't\", 'wasn', \"wasn't\", 'weren', \"weren't\", 'won', \"won't\", 'wouldn', \"wouldn't\"]\n"
     ]
    }
   ],
   "source": [
    "print('불용어 개수 :', len(stopwords.words('english') ))\n",
    "print(stopwords.words('english'))"
   ]
  },
  {
   "cell_type": "code",
   "execution_count": 11,
   "id": "e5b603a2",
   "metadata": {},
   "outputs": [],
   "source": [
    "def preprocess_sentence(sentence, remove_stopwords=True):\n",
    "    sentence = sentence.lower() # 텍스트 소문자화\n",
    "    sentence = BeautifulSoup(sentence, \"lxml\").text # <br />, <a href = ...> 등의 html 태그 제거\n",
    "    sentence = re.sub(r'\\([^)]*\\)', '', sentence) # 괄호로 닫힌 문자열 (...) 제거 Ex) my husband (and myself!) for => my husband for\n",
    "    sentence = re.sub('\"','', sentence) # 쌍따옴표 \" 제거\n",
    "    sentence = ' '.join([contractions[t] if t in contractions else t for t in sentence.split(\" \")]) # 약어 정규화\n",
    "    sentence = re.sub(r\"'s\\b\",\"\", sentence) # 소유격 제거. Ex) roland's -> roland\n",
    "    sentence = re.sub(\"[^a-zA-Z]\", \" \", sentence) # 영어 외 문자(숫자, 특수문자 등) 공백으로 변환\n",
    "    sentence = re.sub('[m]{2,}', 'mm', sentence) # m이 3개 이상이면 2개로 변경. Ex) ummmmmmm yeah -> umm yeah\n",
    "    \n",
    "    # 불용어 제거 (Text)\n",
    "    if remove_stopwords:\n",
    "        tokens = ' '.join(word for word in sentence.split() if not word in stopwords.words('english') if len(word) > 1)\n",
    "    # 불용어 미제거 (Summary)\n",
    "    else:\n",
    "        tokens = ' '.join(word for word in sentence.split() if len(word) > 1)\n",
    "    return tokens"
   ]
  },
  {
   "cell_type": "code",
   "execution_count": 12,
   "id": "35879487",
   "metadata": {},
   "outputs": [
    {
     "name": "stdout",
     "output_type": "stream",
     "text": [
      "Text 전처리 후 결과:  ['saurav kant alumnus upgrad iiit pg program machine learning artificial intelligence sr systems engineer infosys almost years work experience program upgrad degree career support helped transition data scientist tech mahindra salary hike upgrad online power learning powered lakh careers', 'kunal shah credit card bill payment platform cred gave users chance win free food swiggy one year pranav kaushik delhi techie bagged reward spending cred coins users get one cred coin per rupee bill paid used avail rewards brands like ixigo bookmyshow ubereats cult fit', 'new zealand defeated india wickets fourth odi hamilton thursday win first match five match odi series india lost international match rohit sharma captaincy consecutive victories dating back march match witnessed india getting seventh lowest total odi cricket history', 'aegon life iterm insurance plan customers enjoy tax benefits premiums paid save taxes plan provides life cover age years also customers options insure critical illnesses disability accidental death benefit rider life cover age years', 'speaking sexual harassment allegations rajkumar hirani sonam kapoor said known hirani many years true metoo movement get derailed metoo movement always believe woman case need reserve judgment added hirani accused assistant worked sanju']\n"
     ]
    }
   ],
   "source": [
    "# 전체 Text 데이터에 대한 전처리 : 10분 이상 시간이 걸릴 수 있습니다. \n",
    "clean_text = []\n",
    "\n",
    "for sentence in data['text']:\n",
    "    clean_text.append(preprocess_sentence(sentence))\n",
    "\n",
    "\n",
    "# 전처리 후 출력\n",
    "print(\"Text 전처리 후 결과: \", clean_text[:5])"
   ]
  },
  {
   "cell_type": "code",
   "execution_count": 13,
   "id": "27ebcb77",
   "metadata": {},
   "outputs": [
    {
     "name": "stdout",
     "output_type": "stream",
     "text": [
      "Headlines 전처리 후 결과:  ['upgrad learner switches to career in ml al with salary hike', 'delhi techie wins free food from swiggy for one year on cred', 'new zealand end rohit sharma led india match winning streak', 'aegon life iterm insurance plan helps customers save tax', 'have known hirani for yrs what if metoo claims are not true sonam']\n"
     ]
    }
   ],
   "source": [
    "# 전체 Summary 데이터에 대한 전처리 : 5분 이상 시간이 걸릴 수 있습니다. \n",
    "clean_headlines = []\n",
    "\n",
    "for sentence in data['headlines']:\n",
    "    clean_headlines.append(preprocess_sentence(sentence, False))\n",
    "\n",
    "print(\"Headlines 전처리 후 결과: \", clean_headlines[:5])"
   ]
  },
  {
   "cell_type": "code",
   "execution_count": 14,
   "id": "a81904e6",
   "metadata": {},
   "outputs": [
    {
     "data": {
      "text/plain": [
       "headlines    0\n",
       "text         0\n",
       "dtype: int64"
      ]
     },
     "execution_count": 14,
     "metadata": {},
     "output_type": "execute_result"
    }
   ],
   "source": [
    "data['text'] = clean_text\n",
    "data['headlines'] = clean_headlines\n",
    "\n",
    "data.replace('', np.nan, inplace=True)\n",
    "\n",
    "data.isnull().sum()"
   ]
  },
  {
   "cell_type": "markdown",
   "id": "43f8b8b8",
   "metadata": {},
   "source": [
    "### 샘플의 최대 길이 정하기"
   ]
  },
  {
   "cell_type": "code",
   "execution_count": 15,
   "id": "43ea1e29",
   "metadata": {},
   "outputs": [
    {
     "name": "stdout",
     "output_type": "stream",
     "text": [
      "텍스트의 최소 길이: 1\n",
      "텍스트의 최대 길이: 60\n",
      "텍스트의 평균 길이: 35.09968483123221\n",
      "헤드라인의 최소 길이: 1\n",
      "헤드라인의 최대 길이: 16\n",
      "헤드라인의 평균 길이: 9.299532330215534\n"
     ]
    },
    {
     "data": {
      "image/png": "[encoded data removed]",
      "text/plain": [
       "<Figure size 432x288 with 2 Axes>"
      ]
     },
     "metadata": {
      "needs_background": "light"
     },
     "output_type": "display_data"
    },
    {
     "data": {
      "image/png": "[encoded data removed]",
      "text/plain": [
       "<Figure size 432x288 with 1 Axes>"
      ]
     },
     "metadata": {
      "needs_background": "light"
     },
     "output_type": "display_data"
    },
    {
     "data": {
      "image/png": "[encoded data removed]",
      "text/plain": [
       "<Figure size 432x288 with 1 Axes>"
      ]
     },
     "metadata": {
      "needs_background": "light"
     },
     "output_type": "display_data"
    }
   ],
   "source": [
    "text_len = [len(s.split()) for s in data['text']]\n",
    "headline_len = [len(s.split()) for s in data['headlines']]\n",
    "\n",
    "print('텍스트의 최소 길이: {}'.format(np.min(text_len)))\n",
    "print('텍스트의 최대 길이: {}'.format(np.max(text_len)))\n",
    "print('텍스트의 평균 길이: {}'.format(np.mean(text_len)))\n",
    "print('헤드라인의 최소 길이: {}'.format(np.min(headline_len)))\n",
    "print('헤드라인의 최대 길이: {}'.format(np.max(headline_len)))\n",
    "print('헤드라인의 평균 길이: {}'.format(np.mean(headline_len)))\n",
    "\n",
    "plt.subplot(1, 2, 1)\n",
    "plt.boxplot(text_len)\n",
    "plt.title('Text')\n",
    "\n",
    "plt.subplot(1, 2, 2)\n",
    "plt.boxplot(headline_len)\n",
    "plt.title('Headline')\n",
    "# plt.tight_layout()\n",
    "plt.show()\n",
    "\n",
    "plt.title('Text')\n",
    "plt.hist(text_len, bins = 40)\n",
    "plt.xlabel('lenght of samples')\n",
    "plt.ylabel('number of samples')\n",
    "plt.show()\n",
    "\n",
    "plt.title('Headline')\n",
    "plt.hist(headline_len, bins = 40)\n",
    "plt.xlabel('lenght of samples')\n",
    "plt.ylabel('number of samples')\n",
    "plt.show()"
   ]
  },
  {
   "cell_type": "code",
   "execution_count": 16,
   "id": "7cbee93e",
   "metadata": {},
   "outputs": [],
   "source": [
    "text_max_len = 50\n",
    "headline_max_len = 16"
   ]
  },
  {
   "cell_type": "code",
   "execution_count": 17,
   "id": "4bf9c04c",
   "metadata": {},
   "outputs": [],
   "source": [
    "def below_threshold_len(max_len, nested_list):\n",
    "    cnt = 0\n",
    "    for s in nested_list:\n",
    "        if(len(s.split()) <= max_len):\n",
    "            cnt += 1\n",
    "    print('전체 샘플 중 길이가 %s 이하인 샘플의 비율: %s'%(max_len, (cnt/len(nested_list))))"
   ]
  },
  {
   "cell_type": "code",
   "execution_count": 18,
   "id": "9f7c656e",
   "metadata": {},
   "outputs": [
    {
     "name": "stdout",
     "output_type": "stream",
     "text": [
      "전체 샘플 중 길이가 50 이하인 샘플의 비율: 0.9998576657177715\n",
      "전체 샘플 중 길이가 16 이하인 샘플의 비율: 1.0\n"
     ]
    }
   ],
   "source": [
    "below_threshold_len(text_max_len, data['text'])\n",
    "below_threshold_len(headline_max_len, data['headlines'])"
   ]
  },
  {
   "cell_type": "code",
   "execution_count": 19,
   "id": "71ec3912",
   "metadata": {},
   "outputs": [
    {
     "name": "stdout",
     "output_type": "stream",
     "text": [
      "True     98346\n",
      "False       14\n",
      "Name: text_sample, dtype: int64\n",
      "전체 샘플 수:  98346\n"
     ]
    }
   ],
   "source": [
    "data['text_sample'] = data['text'].apply(lambda x: True if len(x.split()) <= text_max_len else False)\n",
    "\n",
    "print(data['text_sample'].value_counts())\n",
    "\n",
    "cond = data['text_sample'] == False\n",
    "data = data.drop(data[cond].index, axis=0)\n",
    "\n",
    "print('전체 샘플 수: ', len(data))"
   ]
  },
  {
   "cell_type": "code",
   "execution_count": 20,
   "id": "8adf4211",
   "metadata": {},
   "outputs": [],
   "source": [
    "data.drop('text_sample', axis=1, inplace=True)"
   ]
  },
  {
   "cell_type": "code",
   "execution_count": 21,
   "id": "356aca00",
   "metadata": {},
   "outputs": [
    {
     "name": "stdout",
     "output_type": "stream",
     "text": [
      "전체 샘플 수:  98345\n"
     ]
    }
   ],
   "source": [
    "cond = data['text'].apply(lambda x: False if len(x.split()) > 1 else True)\n",
    "data.drop(data[cond].index, axis=0, inplace=True)\n",
    "print('전체 샘플 수: ', len(data))"
   ]
  },
  {
   "cell_type": "code",
   "execution_count": 22,
   "id": "0e5e9da3",
   "metadata": {},
   "outputs": [
    {
     "data": {
      "image/png": "[encoded data removed]",
      "text/plain": [
       "<Figure size 432x288 with 2 Axes>"
      ]
     },
     "metadata": {
      "needs_background": "light"
     },
     "output_type": "display_data"
    },
    {
     "data": {
      "image/png": "[encoded data removed]",
      "text/plain": [
       "<Figure size 432x288 with 1 Axes>"
      ]
     },
     "metadata": {
      "needs_background": "light"
     },
     "output_type": "display_data"
    },
    {
     "data": {
      "image/png": "[encoded data removed]",
      "text/plain": [
       "<Figure size 432x288 with 1 Axes>"
      ]
     },
     "metadata": {
      "needs_background": "light"
     },
     "output_type": "display_data"
    }
   ],
   "source": [
    "text_len = [len(s.split()) for s in data['text']]\n",
    "headline_len = [len(s.split()) for s in data['headlines']]\n",
    "\n",
    "plt.subplot(1, 2, 1)\n",
    "plt.boxplot(text_len)\n",
    "plt.title('Text')\n",
    "\n",
    "plt.subplot(1, 2, 2)\n",
    "plt.boxplot(headline_len)\n",
    "plt.title('Headline')\n",
    "# plt.tight_layout()\n",
    "plt.show()\n",
    "\n",
    "plt.title('Text')\n",
    "plt.hist(text_len, bins = 40)\n",
    "plt.xlabel('lenght of samples')\n",
    "plt.ylabel('number of samples')\n",
    "plt.show()\n",
    "\n",
    "plt.title('Headline')\n",
    "plt.hist(headline_len, bins = 40)\n",
    "plt.xlabel('lenght of samples')\n",
    "plt.ylabel('number of samples')\n",
    "plt.show()"
   ]
  },
  {
   "cell_type": "markdown",
   "id": "a2130234",
   "metadata": {},
   "source": [
    "### 시작 토큰과 종료 토큰 추가하기"
   ]
  },
  {
   "cell_type": "code",
   "execution_count": 36,
   "id": "8ab023d7",
   "metadata": {},
   "outputs": [
    {
     "data": {
      "text/html": [
       "<div>\n",
       "<style scoped>\n",
       "    .dataframe tbody tr th:only-of-type {\n",
       "        vertical-align: middle;\n",
       "    }\n",
       "\n",
       "    .dataframe tbody tr th {\n",
       "        vertical-align: top;\n",
       "    }\n",
       "\n",
       "    .dataframe thead th {\n",
       "        text-align: right;\n",
       "    }\n",
       "</style>\n",
       "<table border=\"1\" class=\"dataframe\">\n",
       "  <thead>\n",
       "    <tr style=\"text-align: right;\">\n",
       "      <th></th>\n",
       "      <th>headlines</th>\n",
       "      <th>text</th>\n",
       "      <th>decoder_input</th>\n",
       "      <th>decoder_target</th>\n",
       "    </tr>\n",
       "  </thead>\n",
       "  <tbody>\n",
       "    <tr>\n",
       "      <th>0</th>\n",
       "      <td>upgrad learner switches to career in ml al wit...</td>\n",
       "      <td>saurav kant alumnus upgrad iiit pg program mac...</td>\n",
       "      <td>sostoken upgrad learner switches to career in ...</td>\n",
       "      <td>upgrad learner switches to career in ml al wit...</td>\n",
       "    </tr>\n",
       "    <tr>\n",
       "      <th>1</th>\n",
       "      <td>delhi techie wins free food from swiggy for on...</td>\n",
       "      <td>kunal shah credit card bill payment platform c...</td>\n",
       "      <td>sostoken delhi techie wins free food from swig...</td>\n",
       "      <td>delhi techie wins free food from swiggy for on...</td>\n",
       "    </tr>\n",
       "    <tr>\n",
       "      <th>2</th>\n",
       "      <td>new zealand end rohit sharma led india match w...</td>\n",
       "      <td>new zealand defeated india wickets fourth odi ...</td>\n",
       "      <td>sostoken new zealand end rohit sharma led indi...</td>\n",
       "      <td>new zealand end rohit sharma led india match w...</td>\n",
       "    </tr>\n",
       "    <tr>\n",
       "      <th>3</th>\n",
       "      <td>aegon life iterm insurance plan helps customer...</td>\n",
       "      <td>aegon life iterm insurance plan customers enjo...</td>\n",
       "      <td>sostoken aegon life iterm insurance plan helps...</td>\n",
       "      <td>aegon life iterm insurance plan helps customer...</td>\n",
       "    </tr>\n",
       "    <tr>\n",
       "      <th>4</th>\n",
       "      <td>have known hirani for yrs what if metoo claims...</td>\n",
       "      <td>speaking sexual harassment allegations rajkuma...</td>\n",
       "      <td>sostoken have known hirani for yrs what if met...</td>\n",
       "      <td>have known hirani for yrs what if metoo claims...</td>\n",
       "    </tr>\n",
       "  </tbody>\n",
       "</table>\n",
       "</div>"
      ],
      "text/plain": [
       "                                           headlines  \\\n",
       "0  upgrad learner switches to career in ml al wit...   \n",
       "1  delhi techie wins free food from swiggy for on...   \n",
       "2  new zealand end rohit sharma led india match w...   \n",
       "3  aegon life iterm insurance plan helps customer...   \n",
       "4  have known hirani for yrs what if metoo claims...   \n",
       "\n",
       "                                                text  \\\n",
       "0  saurav kant alumnus upgrad iiit pg program mac...   \n",
       "1  kunal shah credit card bill payment platform c...   \n",
       "2  new zealand defeated india wickets fourth odi ...   \n",
       "3  aegon life iterm insurance plan customers enjo...   \n",
       "4  speaking sexual harassment allegations rajkuma...   \n",
       "\n",
       "                                       decoder_input  \\\n",
       "0  sostoken upgrad learner switches to career in ...   \n",
       "1  sostoken delhi techie wins free food from swig...   \n",
       "2  sostoken new zealand end rohit sharma led indi...   \n",
       "3  sostoken aegon life iterm insurance plan helps...   \n",
       "4  sostoken have known hirani for yrs what if met...   \n",
       "\n",
       "                                      decoder_target  \n",
       "0  upgrad learner switches to career in ml al wit...  \n",
       "1  delhi techie wins free food from swiggy for on...  \n",
       "2  new zealand end rohit sharma led india match w...  \n",
       "3  aegon life iterm insurance plan helps customer...  \n",
       "4  have known hirani for yrs what if metoo claims...  "
      ]
     },
     "execution_count": 36,
     "metadata": {},
     "output_type": "execute_result"
    }
   ],
   "source": [
    "data['decoder_input'] = data['headlines'].apply(lambda x: 'sostoken ' + x)\n",
    "data['decoder_target'] = data['headlines'].apply(lambda x: x + ' eostoken')\n",
    "data.head()"
   ]
  },
  {
   "cell_type": "code",
   "execution_count": 37,
   "id": "25ac5dc6",
   "metadata": {},
   "outputs": [],
   "source": [
    "encoder_input = np.array(data['text'])\n",
    "decoder_input = np.array(data['decoder_input'])\n",
    "decoder_target = np.array(data['decoder_target'])"
   ]
  },
  {
   "cell_type": "markdown",
   "id": "93b1d369",
   "metadata": {},
   "source": [
    "### 훈련 데이터와 테스트 데이터 나누기"
   ]
  },
  {
   "cell_type": "code",
   "execution_count": 38,
   "id": "ade9f10a",
   "metadata": {},
   "outputs": [
    {
     "data": {
      "text/plain": [
       "((98345, 2), (98345,))"
      ]
     },
     "execution_count": 38,
     "metadata": {},
     "output_type": "execute_result"
    }
   ],
   "source": [
    "from sklearn.model_selection import train_test_split\n",
    "\n",
    "inputs = pd.concat([data['text'], data['decoder_input']], axis=1, join='inner')\n",
    "target = data['decoder_target']\n",
    "\n",
    "inputs.shape, target.shape"
   ]
  },
  {
   "cell_type": "code",
   "execution_count": 39,
   "id": "b557c76a",
   "metadata": {},
   "outputs": [
    {
     "name": "stdout",
     "output_type": "stream",
     "text": [
      "(78676, 2)\n",
      "(19669, 2)\n",
      "(78676,)\n",
      "(19669,)\n"
     ]
    }
   ],
   "source": [
    "input_train, input_test, target_train, target_test = train_test_split(inputs, target,\n",
    "                                                                     test_size=0.2)\n",
    "\n",
    "print(input_train.shape)\n",
    "print(input_test.shape)\n",
    "print(target_train.shape)\n",
    "print(target_test.shape)"
   ]
  },
  {
   "cell_type": "code",
   "execution_count": 40,
   "id": "3ad9907a",
   "metadata": {},
   "outputs": [
    {
     "data": {
      "text/html": [
       "<div>\n",
       "<style scoped>\n",
       "    .dataframe tbody tr th:only-of-type {\n",
       "        vertical-align: middle;\n",
       "    }\n",
       "\n",
       "    .dataframe tbody tr th {\n",
       "        vertical-align: top;\n",
       "    }\n",
       "\n",
       "    .dataframe thead th {\n",
       "        text-align: right;\n",
       "    }\n",
       "</style>\n",
       "<table border=\"1\" class=\"dataframe\">\n",
       "  <thead>\n",
       "    <tr style=\"text-align: right;\">\n",
       "      <th></th>\n",
       "      <th>text</th>\n",
       "      <th>decoder_input</th>\n",
       "    </tr>\n",
       "  </thead>\n",
       "  <tbody>\n",
       "    <tr>\n",
       "      <th>34416</th>\n",
       "      <td>technology giant apple reportedly planning lau...</td>\n",
       "      <td>sostoken iphone se to launch in may without he...</td>\n",
       "    </tr>\n",
       "    <tr>\n",
       "      <th>78504</th>\n",
       "      <td>clown motel united states nevada listed sale d...</td>\n",
       "      <td>sostoken clown motel goes on sale for nearly c...</td>\n",
       "    </tr>\n",
       "    <tr>\n",
       "      <th>38550</th>\n",
       "      <td>convicted gangster abu salem lodged mumbai jai...</td>\n",
       "      <td>sostoken bored reading newspaper in jail need ...</td>\n",
       "    </tr>\n",
       "    <tr>\n",
       "      <th>94078</th>\n",
       "      <td>players fought pitch match brazilian football ...</td>\n",
       "      <td>sostoken players fight on pitch after goalkeep...</td>\n",
       "    </tr>\n",
       "    <tr>\n",
       "      <th>13760</th>\n",
       "      <td>australian cricketer john hastings revealed ev...</td>\n",
       "      <td>sostoken been coughing up blood when bowl aust...</td>\n",
       "    </tr>\n",
       "  </tbody>\n",
       "</table>\n",
       "</div>"
      ],
      "text/plain": [
       "                                                    text  \\\n",
       "34416  technology giant apple reportedly planning lau...   \n",
       "78504  clown motel united states nevada listed sale d...   \n",
       "38550  convicted gangster abu salem lodged mumbai jai...   \n",
       "94078  players fought pitch match brazilian football ...   \n",
       "13760  australian cricketer john hastings revealed ev...   \n",
       "\n",
       "                                           decoder_input  \n",
       "34416  sostoken iphone se to launch in may without he...  \n",
       "78504  sostoken clown motel goes on sale for nearly c...  \n",
       "38550  sostoken bored reading newspaper in jail need ...  \n",
       "94078  sostoken players fight on pitch after goalkeep...  \n",
       "13760  sostoken been coughing up blood when bowl aust...  "
      ]
     },
     "execution_count": 40,
     "metadata": {},
     "output_type": "execute_result"
    }
   ],
   "source": [
    "input_train.head()"
   ]
  },
  {
   "cell_type": "code",
   "execution_count": 41,
   "id": "c660bb76",
   "metadata": {},
   "outputs": [
    {
     "data": {
      "text/plain": [
       "34416    iphone se to launch in may without headphone j...\n",
       "78504    clown motel goes on sale for nearly crore eost...\n",
       "38550    bored reading newspaper in jail need someone t...\n",
       "94078    players fight on pitch after goalkeeper kicks ...\n",
       "13760    been coughing up blood when bowl australian cr...\n",
       "Name: decoder_target, dtype: object"
      ]
     },
     "execution_count": 41,
     "metadata": {},
     "output_type": "execute_result"
    }
   ],
   "source": [
    "target_train.head()"
   ]
  },
  {
   "cell_type": "code",
   "execution_count": 42,
   "id": "0950f152",
   "metadata": {},
   "outputs": [
    {
     "name": "stdout",
     "output_type": "stream",
     "text": [
      "훈련 데이터의 개수 : 78676\n",
      "훈련 레이블의 개수 : 78676\n",
      "테스트 데이터의 개수 : 19669\n",
      "테스트 레이블의 개수 : 19669\n"
     ]
    }
   ],
   "source": [
    "encoder_input_train = np.array(input_train['text'])\n",
    "decoder_input_train = np.array(input_train['decoder_input'])\n",
    "decoder_target_train = np.array(target_train)\n",
    "\n",
    "encoder_input_test = np.array(input_test['text'])\n",
    "decoder_input_test = np.array(input_test['decoder_input'])\n",
    "decoder_target_test = np.array(target_test)\n",
    "\n",
    "print('훈련 데이터의 개수 :', len(encoder_input_train))\n",
    "print('훈련 레이블의 개수 :', len(decoder_input_train))\n",
    "print('테스트 데이터의 개수 :', len(encoder_input_test))\n",
    "print('테스트 레이블의 개수 :', len(decoder_input_test))"
   ]
  },
  {
   "cell_type": "markdown",
   "id": "fe3ca666",
   "metadata": {},
   "source": [
    "### 정수 인코딩"
   ]
  },
  {
   "cell_type": "code",
   "execution_count": 45,
   "id": "9529f7e0",
   "metadata": {},
   "outputs": [],
   "source": [
    "from tensorflow.keras.preprocessing.text import Tokenizer\n",
    "tokenizer = Tokenizer()\n",
    "tokenizer.fit_on_texts(encoder_input_train)"
   ]
  },
  {
   "cell_type": "code",
   "execution_count": 52,
   "id": "e8c1094f",
   "metadata": {},
   "outputs": [
    {
     "name": "stdout",
     "output_type": "stream",
     "text": [
      "단어 집합(vocabulary)의 크기 : 69663\n",
      "등장 빈도가 6번 이하인 희귀 단어의 수: 47487\n",
      "단어 집합에서 희귀 단어를 제외시킬 경우의 단어 집합의 크기 22176\n",
      "단어 집합에서 희귀 단어의 비율: 68.16674561819043\n",
      "전체 등장 빈도에서 희귀 단어 등장 빈도 비율: 3.4854914255331786\n"
     ]
    }
   ],
   "source": [
    "threshold = 7\n",
    "total_cnt = len(tokenizer.word_index) # 단어의 수\n",
    "rare_cnt = 0 # 등장 빈도수가 threshold보다 작은 단어의 개수를 카운트\n",
    "total_freq = 0 # 훈련 데이터의 전체 단어 빈도수 총 합\n",
    "rare_freq = 0 # 등장 빈도수가 threshold보다 작은 단어의 등장 빈도수의 총 합\n",
    "\n",
    "# 단어와 빈도수의 쌍(pair)을 key와 value로 받는다.\n",
    "for key, value in tokenizer.word_counts.items():\n",
    "    total_freq = total_freq + value\n",
    "\n",
    "    # 단어의 등장 빈도수가 threshold보다 작으면\n",
    "    if(value < threshold):\n",
    "        rare_cnt = rare_cnt + 1\n",
    "        rare_freq = rare_freq + value\n",
    "\n",
    "print('단어 집합(vocabulary)의 크기 :', total_cnt)\n",
    "print('등장 빈도가 %s번 이하인 희귀 단어의 수: %s'%(threshold - 1, rare_cnt))\n",
    "print('단어 집합에서 희귀 단어를 제외시킬 경우의 단어 집합의 크기 %s'%(total_cnt - rare_cnt))\n",
    "print(\"단어 집합에서 희귀 단어의 비율:\", (rare_cnt / total_cnt)*100)\n",
    "print(\"전체 등장 빈도에서 희귀 단어 등장 빈도 비율:\", (rare_freq / total_freq)*100)"
   ]
  },
  {
   "cell_type": "code",
   "execution_count": 54,
   "id": "f67c7a66",
   "metadata": {},
   "outputs": [],
   "source": [
    "vocab_size = 22000\n",
    "tokenizer = Tokenizer(num_words=vocab_size)\n",
    "tokenizer.fit_on_texts(encoder_input_train)"
   ]
  },
  {
   "cell_type": "code",
   "execution_count": 57,
   "id": "f17cd01a",
   "metadata": {},
   "outputs": [
    {
     "name": "stdout",
     "output_type": "stream",
     "text": [
      "[[206, 475, 284, 24, 579, 453, 1005, 2968, 115, 3, 193, 5207, 11532, 2197, 1258, 494, 452, 3041, 1561, 1588, 3650, 2614, 256, 1258, 115, 6, 2727, 1862, 1740, 1005, 2968, 263, 2252, 3436], [10727, 16691, 289, 332, 10982, 1848, 645, 1687, 16691, 39, 1806, 168, 11533, 874, 23, 416, 2368, 11862, 11863, 3001, 1, 274, 25, 2368, 720, 10727, 4116], [1476, 3792, 2940, 9141, 1779, 78, 479, 1363, 5874, 2035, 86, 10728, 2885, 2529, 3762, 43, 1650, 859, 3437, 5875, 326, 1332, 4446, 1558, 9141, 1810, 325, 3256, 479, 161, 59, 108, 36]]\n"
     ]
    }
   ],
   "source": [
    "encoder_input_train = tokenizer.texts_to_sequences(encoder_input_train)\n",
    "encoder_input_test = tokenizer.texts_to_sequences(encoder_input_test)\n",
    "\n",
    "print(encoder_input_train[:3])"
   ]
  },
  {
   "cell_type": "code",
   "execution_count": 58,
   "id": "4dc55b85",
   "metadata": {},
   "outputs": [],
   "source": [
    "tar_tokenizer = Tokenizer()\n",
    "tar_tokenizer.fit_on_texts(decoder_input_train)"
   ]
  },
  {
   "cell_type": "code",
   "execution_count": 66,
   "id": "00aeb550",
   "metadata": {},
   "outputs": [
    {
     "name": "stdout",
     "output_type": "stream",
     "text": [
      "단어 집합(vocabulary)의 크기 : 30014\n",
      "등장 빈도가 3번 이하인 희귀 단어의 수: 16879\n",
      "단어 집합에서 희귀 단어를 제외시킬 경우의 단어 집합의 크기 13135\n",
      "단어 집합에서 희귀 단어의 비율: 56.237089358299464\n",
      "전체 등장 빈도에서 희귀 단어 등장 빈도 비율: 3.1418336764872885\n"
     ]
    }
   ],
   "source": [
    "threshold = 4\n",
    "total_cnt = len(tar_tokenizer.word_index) # 단어의 수\n",
    "rare_cnt = 0 # 등장 빈도수가 threshold보다 작은 단어의 개수를 카운트\n",
    "total_freq = 0 # 훈련 데이터의 전체 단어 빈도수 총 합\n",
    "rare_freq = 0 # 등장 빈도수가 threshold보다 작은 단어의 등장 빈도수의 총 합\n",
    "\n",
    "# 단어와 빈도수의 쌍(pair)을 key와 value로 받는다.\n",
    "for key, value in tar_tokenizer.word_counts.items():\n",
    "    total_freq = total_freq + value\n",
    "\n",
    "    # 단어의 등장 빈도수가 threshold보다 작으면\n",
    "    if(value < threshold):\n",
    "        rare_cnt = rare_cnt + 1\n",
    "        rare_freq = rare_freq + value\n",
    "\n",
    "print('단어 집합(vocabulary)의 크기 :', total_cnt)\n",
    "print('등장 빈도가 %s번 이하인 희귀 단어의 수: %s'%(threshold - 1, rare_cnt))\n",
    "print('단어 집합에서 희귀 단어를 제외시킬 경우의 단어 집합의 크기 %s'%(total_cnt - rare_cnt))\n",
    "print(\"단어 집합에서 희귀 단어의 비율:\", (rare_cnt / total_cnt)*100)\n",
    "print(\"전체 등장 빈도에서 희귀 단어 등장 빈도 비율:\", (rare_freq / total_freq)*100)"
   ]
  },
  {
   "cell_type": "code",
   "execution_count": 67,
   "id": "810c3df8",
   "metadata": {},
   "outputs": [
    {
     "name": "stdout",
     "output_type": "stream",
     "text": [
      "input\n",
      "input  [[1, 548, 2918, 3, 249, 4, 84, 246, 7682, 1641, 35], [1, 7683, 11642, 379, 7, 365, 5, 1109, 33], [1, 6847, 5019, 2594, 4, 215, 432, 2006, 3, 3260, 4010, 6479], [1, 495, 401, 7, 1429, 11, 4130, 5020, 385, 12, 486], [1, 480, 25, 1053, 243, 4011, 697, 887]]\n",
      "target\n",
      "decoder  [[548, 2918, 3, 249, 4, 84, 246, 7682, 1641, 35, 2], [7683, 11642, 379, 7, 365, 5, 1109, 33, 2], [6847, 5019, 2594, 4, 215, 432, 2006, 3, 3260, 4010, 6479, 2], [495, 401, 7, 1429, 11, 4130, 5020, 385, 12, 486, 2], [480, 25, 1053, 243, 4011, 697, 887, 2]]\n"
     ]
    }
   ],
   "source": [
    "tar_vocab = 13000\n",
    "tar_tokenizer = Tokenizer(num_words=tar_vocab) \n",
    "tar_tokenizer.fit_on_texts(decoder_input_train)\n",
    "tar_tokenizer.fit_on_texts(decoder_target_train)\n",
    "\n",
    "# 텍스트 시퀀스를 정수 시퀀스로 변환\n",
    "decoder_input_train = tar_tokenizer.texts_to_sequences(decoder_input_train) \n",
    "decoder_target_train = tar_tokenizer.texts_to_sequences(decoder_target_train)\n",
    "decoder_input_test = tar_tokenizer.texts_to_sequences(decoder_input_test)\n",
    "decoder_target_test = tar_tokenizer.texts_to_sequences(decoder_target_test)\n",
    "\n",
    "# 잘 변환되었는지 확인\n",
    "print('input')\n",
    "print('input ',decoder_input_train[:5])\n",
    "print('target')\n",
    "print('decoder ',decoder_target_train[:5])"
   ]
  },
  {
   "cell_type": "code",
   "execution_count": 68,
   "id": "a702728f",
   "metadata": {},
   "outputs": [
    {
     "name": "stdout",
     "output_type": "stream",
     "text": [
      "정수 인코딩 이후 길이가 0이된 훈련 데이터의 개수:  0\n",
      "정수 인코딩 이후 길이가 0이된 테스트 데이터의 개수:  0\n"
     ]
    }
   ],
   "source": [
    "drop_train = [index for index, sentence in enumerate(decoder_input_train) if len(sentence) == 1]\n",
    "drop_test = [index for index, sentence in enumerate(decoder_input_test) if len(sentence) == 1]\n",
    "\n",
    "print('정수 인코딩 이후 길이가 0이된 훈련 데이터의 개수: ', len(drop_train))\n",
    "print('정수 인코딩 이후 길이가 0이된 테스트 데이터의 개수: ', len(drop_test))"
   ]
  },
  {
   "cell_type": "code",
   "execution_count": 71,
   "id": "b0ac8139",
   "metadata": {},
   "outputs": [],
   "source": [
    "from tensorflow.keras.preprocessing.sequence import pad_sequences\n",
    "\n",
    "encoder_input_train = pad_sequences(encoder_input_train, maxlen=text_max_len, padding='post')\n",
    "encoder_input_test = pad_sequences(encoder_input_test, maxlen=text_max_len, padding='post')\n",
    "decoder_input_train = pad_sequences(decoder_input_train, maxlen=headline_max_len, padding='post')\n",
    "decoder_target_train = pad_sequences(decoder_target_train, maxlen=headline_max_len, padding='post')\n",
    "decoder_input_test = pad_sequences(decoder_input_test, maxlen=headline_max_len, padding='post')\n",
    "decoder_target_test = pad_sequences(decoder_target_test, maxlen=headline_max_len, padding='post')"
   ]
  },
  {
   "cell_type": "markdown",
   "id": "13e79888",
   "metadata": {},
   "source": [
    "## Step 3. 어텐션 메커니즘 사용하기"
   ]
  },
  {
   "cell_type": "code",
   "execution_count": 75,
   "id": "8f67f061",
   "metadata": {},
   "outputs": [],
   "source": [
    "from tensorflow.keras.layers import Input, LSTM, Embedding, Dense, Concatenate, TimeDistributed\n",
    "from tensorflow.keras.models import Model\n",
    "from tensorflow.keras.callbacks import EarlyStopping, ModelCheckpoint"
   ]
  },
  {
   "cell_type": "code",
   "execution_count": 83,
   "id": "d247ef83",
   "metadata": {},
   "outputs": [],
   "source": [
    "# 인코더 설계 시작\n",
    "embedding_dim = 700\n",
    "hidden_size = 512\n",
    "\n",
    "# 인코더\n",
    "encoder_inputs = Input(shape=(text_max_len,))\n",
    "\n",
    "# 인코더의 임베딩 층\n",
    "enc_emb = Embedding(vocab_size, embedding_dim, name='encoder_embedding')(encoder_inputs)\n",
    "\n",
    "# 인코더의 LSTM 1\n",
    "# encoder_lstm1 = LSTM(hidden_size, return_sequences=True, return_state=True ,dropout = 0.4, recurrent_dropout = 0.4)\n",
    "encoder_lstm1 = LSTM(hidden_size, return_sequences=True, return_state=True ,dropout = 0.4, name='encoder_lstm1')\n",
    "encoder_output1, state_h1, state_c1 = encoder_lstm1(enc_emb)\n",
    "\n",
    "# 인코더의 LSTM 2\n",
    "encoder_lstm2 = LSTM(hidden_size, return_sequences=True, return_state=True ,dropout = 0.4, name='encoder_lstm2')\n",
    "encoder_output2, state_h2, state_c2 = encoder_lstm2(encoder_output1)\n",
    "\n",
    "# 인코더의 LSTM 3\n",
    "encoder_lstm3 = LSTM(hidden_size, return_sequences=True, return_state=True ,dropout = 0.4, name='encoder_lstm3')\n",
    "encoder_outputs, state_h, state_c = encoder_lstm3(encoder_output2)"
   ]
  },
  {
   "cell_type": "code",
   "execution_count": 84,
   "id": "8c42012b",
   "metadata": {},
   "outputs": [],
   "source": [
    "# 디코더 설계\n",
    "decoder_inputs = Input(shape=(None,))\n",
    "\n",
    "# 디코더의 임베딩 층\n",
    "dec_emb_layer = Embedding(tar_vocab, embedding_dim, name='decoder_embedding')\n",
    "dec_emb = dec_emb_layer(decoder_inputs)\n",
    "\n",
    "# 디코더의 LSTM\n",
    "# decoder_lstm = LSTM(hidden_size, return_sequences=True, return_state=True, dropout=0.4, recurrent_dropout=0.2)\n",
    "decoder_lstm = LSTM(hidden_size, return_sequences=True, return_state=True, dropout=0.4, name='decoder_lstm')\n",
    "decoder_outputs, _, _ = decoder_lstm(dec_emb, initial_state=[state_h, state_c])"
   ]
  },
  {
   "cell_type": "code",
   "execution_count": 85,
   "id": "32d7e0f3",
   "metadata": {},
   "outputs": [
    {
     "name": "stdout",
     "output_type": "stream",
     "text": [
      "Model: \"model_2\"\n",
      "__________________________________________________________________________________________________\n",
      "Layer (type)                    Output Shape         Param #     Connected to                     \n",
      "==================================================================================================\n",
      "input_4 (InputLayer)            [(None, 50)]         0                                            \n",
      "__________________________________________________________________________________________________\n",
      "encoder_embedding (Embedding)   (None, 50, 700)      15400000    input_4[0][0]                    \n",
      "__________________________________________________________________________________________________\n",
      "encoder_lstm1 (LSTM)            [(None, 50, 512), (N 2484224     encoder_embedding[0][0]          \n",
      "__________________________________________________________________________________________________\n",
      "input_5 (InputLayer)            [(None, None)]       0                                            \n",
      "__________________________________________________________________________________________________\n",
      "encoder_lstm2 (LSTM)            [(None, 50, 512), (N 2099200     encoder_lstm1[0][0]              \n",
      "__________________________________________________________________________________________________\n",
      "decoder_embedding (Embedding)   (None, None, 700)    9100000     input_5[0][0]                    \n",
      "__________________________________________________________________________________________________\n",
      "encoder_lstm3 (LSTM)            [(None, 50, 512), (N 2099200     encoder_lstm2[0][0]              \n",
      "__________________________________________________________________________________________________\n",
      "decoder_lstm (LSTM)             [(None, None, 512),  2484224     decoder_embedding[0][0]          \n",
      "                                                                 encoder_lstm3[0][1]              \n",
      "                                                                 encoder_lstm3[0][2]              \n",
      "__________________________________________________________________________________________________\n",
      "decoder_output (Dense)          (None, None, 13000)  6669000     decoder_lstm[0][0]               \n",
      "==================================================================================================\n",
      "Total params: 40,335,848\n",
      "Trainable params: 40,335,848\n",
      "Non-trainable params: 0\n",
      "__________________________________________________________________________________________________\n"
     ]
    }
   ],
   "source": [
    "# 디코더의 출력층\n",
    "decoder_softmax_layer = Dense(tar_vocab, activation='softmax', name='decoder_output')\n",
    "decoder_softmax_outputs = decoder_softmax_layer(decoder_outputs) \n",
    "\n",
    "# 모델 정의\n",
    "model = Model([encoder_inputs, decoder_inputs], decoder_softmax_outputs)\n",
    "model.summary()"
   ]
  },
  {
   "cell_type": "code",
   "execution_count": 86,
   "id": "099bbe1e",
   "metadata": {},
   "outputs": [
    {
     "name": "stdout",
     "output_type": "stream",
     "text": [
      "Model: \"model_3\"\n",
      "__________________________________________________________________________________________________\n",
      "Layer (type)                    Output Shape         Param #     Connected to                     \n",
      "==================================================================================================\n",
      "input_4 (InputLayer)            [(None, 50)]         0                                            \n",
      "__________________________________________________________________________________________________\n",
      "encoder_embedding (Embedding)   (None, 50, 700)      15400000    input_4[0][0]                    \n",
      "__________________________________________________________________________________________________\n",
      "encoder_lstm1 (LSTM)            [(None, 50, 512), (N 2484224     encoder_embedding[0][0]          \n",
      "__________________________________________________________________________________________________\n",
      "input_5 (InputLayer)            [(None, None)]       0                                            \n",
      "__________________________________________________________________________________________________\n",
      "encoder_lstm2 (LSTM)            [(None, 50, 512), (N 2099200     encoder_lstm1[0][0]              \n",
      "__________________________________________________________________________________________________\n",
      "decoder_embedding (Embedding)   (None, None, 700)    9100000     input_5[0][0]                    \n",
      "__________________________________________________________________________________________________\n",
      "encoder_lstm3 (LSTM)            [(None, 50, 512), (N 2099200     encoder_lstm2[0][0]              \n",
      "__________________________________________________________________________________________________\n",
      "decoder_lstm (LSTM)             [(None, None, 512),  2484224     decoder_embedding[0][0]          \n",
      "                                                                 encoder_lstm3[0][1]              \n",
      "                                                                 encoder_lstm3[0][2]              \n",
      "__________________________________________________________________________________________________\n",
      "attention_layer (AdditiveAttent (None, None, 512)    512         decoder_lstm[0][0]               \n",
      "                                                                 encoder_lstm3[0][0]              \n",
      "__________________________________________________________________________________________________\n",
      "concat_layer (Concatenate)      (None, None, 1024)   0           decoder_lstm[0][0]               \n",
      "                                                                 attention_layer[0][0]            \n",
      "__________________________________________________________________________________________________\n",
      "dense_1 (Dense)                 (None, None, 13000)  13325000    concat_layer[0][0]               \n",
      "==================================================================================================\n",
      "Total params: 46,992,360\n",
      "Trainable params: 46,992,360\n",
      "Non-trainable params: 0\n",
      "__________________________________________________________________________________________________\n"
     ]
    }
   ],
   "source": [
    "from tensorflow.keras.layers import AdditiveAttention\n",
    "\n",
    "# 어텐션 층(어텐션 함수)\n",
    "attn_layer = AdditiveAttention(name='attention_layer')\n",
    "\n",
    "# 인코더와 디코더의 모든 time step의 hidden state를 어텐션 층에 전달하고 결과를 리턴\n",
    "attn_out = attn_layer([decoder_outputs, encoder_outputs])\n",
    "\n",
    "\n",
    "# 어텐션의 결과와 디코더의 hidden state들을 연결\n",
    "decoder_concat_input = Concatenate(axis=-1, name='concat_layer')([decoder_outputs, attn_out])\n",
    "\n",
    "# 디코더의 출력층\n",
    "decoder_softmax_layer = Dense(tar_vocab, activation='softmax')\n",
    "decoder_softmax_outputs = decoder_softmax_layer(decoder_concat_input)\n",
    "\n",
    "# 모델 정의\n",
    "model = Model([encoder_inputs, decoder_inputs], decoder_softmax_outputs)\n",
    "model.summary()"
   ]
  },
  {
   "cell_type": "code",
   "execution_count": 88,
   "id": "bf35eaf2",
   "metadata": {},
   "outputs": [
    {
     "name": "stdout",
     "output_type": "stream",
     "text": [
      "Epoch 1/50\n",
      "308/308 [==============================] - 118s 366ms/step - loss: 4.2780 - val_loss: 3.7985\n",
      "Epoch 2/50\n",
      "308/308 [==============================] - 111s 361ms/step - loss: 3.5957 - val_loss: 3.3934\n",
      "Epoch 3/50\n",
      "308/308 [==============================] - 111s 361ms/step - loss: 3.2307 - val_loss: 3.1595\n",
      "Epoch 4/50\n",
      "308/308 [==============================] - 111s 361ms/step - loss: 2.9636 - val_loss: 3.0136\n",
      "Epoch 5/50\n",
      "308/308 [==============================] - 111s 362ms/step - loss: 2.7535 - val_loss: 2.9080\n",
      "Epoch 6/50\n",
      "308/308 [==============================] - 112s 363ms/step - loss: 2.5775 - val_loss: 2.8462\n",
      "Epoch 7/50\n",
      "308/308 [==============================] - 111s 362ms/step - loss: 2.4254 - val_loss: 2.7973\n",
      "Epoch 8/50\n",
      "308/308 [==============================] - 112s 362ms/step - loss: 2.2869 - val_loss: 2.7692\n",
      "Epoch 9/50\n",
      "308/308 [==============================] - 112s 362ms/step - loss: 2.1621 - val_loss: 2.7527\n",
      "Epoch 10/50\n",
      "308/308 [==============================] - 112s 362ms/step - loss: 2.0455 - val_loss: 2.7464\n",
      "Epoch 11/50\n",
      "308/308 [==============================] - 112s 363ms/step - loss: 1.9415 - val_loss: 2.7420\n",
      "Epoch 12/50\n",
      "308/308 [==============================] - 112s 363ms/step - loss: 1.8433 - val_loss: 2.7480\n",
      "Epoch 13/50\n",
      "308/308 [==============================] - 112s 362ms/step - loss: 1.7504 - val_loss: 2.7633\n",
      "Epoch 14/50\n",
      "308/308 [==============================] - 112s 363ms/step - loss: 1.6652 - val_loss: 2.7761\n",
      "Restoring model weights from the end of the best epoch.\n",
      "Epoch 00014: early stopping\n"
     ]
    }
   ],
   "source": [
    "model.compile(optimizer='rmsprop', loss='sparse_categorical_crossentropy')\n",
    "es = EarlyStopping(monitor='val_loss', patience=3, verbose=1, restore_best_weights=True)\n",
    "history = model.fit(x=[encoder_input_train, decoder_input_train], y=decoder_target_train, \\\n",
    "          validation_data=([encoder_input_test, decoder_input_test], decoder_target_test), \\\n",
    "          batch_size=256, callbacks=[es], epochs=50)"
   ]
  },
  {
   "cell_type": "code",
   "execution_count": 89,
   "id": "199d3afc",
   "metadata": {},
   "outputs": [
    {
     "data": {
      "image/png": "[encoded data removed]",
      "text/plain": [
       "<Figure size 432x288 with 1 Axes>"
      ]
     },
     "metadata": {
      "needs_background": "light"
     },
     "output_type": "display_data"
    }
   ],
   "source": [
    "plt.plot(history.history['loss'], label='train')\n",
    "plt.plot(history.history['val_loss'], label='test')\n",
    "plt.legend()\n",
    "plt.show()"
   ]
  },
  {
   "cell_type": "markdown",
   "id": "c0704758",
   "metadata": {},
   "source": [
    "### 인퍼런스 모델 구현하기"
   ]
  },
  {
   "cell_type": "code",
   "execution_count": 91,
   "id": "f4f5ac18",
   "metadata": {},
   "outputs": [],
   "source": [
    "src_index_to_word = tokenizer.index_word\n",
    "tar_word_to_index = tar_tokenizer.word_index\n",
    "tar_index_to_word = tar_tokenizer.index_word"
   ]
  },
  {
   "cell_type": "code",
   "execution_count": 92,
   "id": "b943c43d",
   "metadata": {},
   "outputs": [],
   "source": [
    "# 인코더 설계\n",
    "encoder_model = Model(inputs=encoder_inputs, outputs=[encoder_outputs, state_h, state_c])\n",
    "\n",
    "# 이전 시점의 상태들을 저장하는 텐서\n",
    "decoder_state_input_h = Input(shape=(hidden_size,))\n",
    "decoder_state_input_c = Input(shape=(hidden_size,))\n",
    "\n",
    "dec_emb2 = dec_emb_layer(decoder_inputs)\n",
    "\n",
    "# 문장의 다음 단어를 예측하기 위해서 초기 상태(initial_state)를 \n",
    "# 이전 시점의 상태로 사용. \n",
    "decoder_outputs2, state_h2, state_c2 = decoder_lstm(dec_emb2, initial_state=[decoder_state_input_h, decoder_state_input_c])\n",
    "\n",
    "# 어텐션 함수\n",
    "decoder_hidden_state_input = Input(shape=(text_max_len, hidden_size))\n",
    "attn_out_inf = attn_layer([decoder_outputs2, decoder_hidden_state_input])\n",
    "decoder_inf_concat = Concatenate(axis=-1, name='concat')([decoder_outputs2, attn_out_inf])\n",
    "\n",
    "# 디코더의 출력층\n",
    "decoder_outputs2 = decoder_softmax_layer(decoder_inf_concat) \n",
    "\n",
    "# 최종 디코더 모델\n",
    "decoder_model = Model(\n",
    "    [decoder_inputs] + [decoder_hidden_state_input,decoder_state_input_h, decoder_state_input_c],\n",
    "    [decoder_outputs2] + [state_h2, state_c2])"
   ]
  },
  {
   "cell_type": "code",
   "execution_count": 96,
   "id": "a2a09bbb",
   "metadata": {},
   "outputs": [],
   "source": [
    "def decode_sequence(input_seq):\n",
    "    # 입력으로부터 인코더의 상태를 얻음\n",
    "    e_out, e_h, e_c = encoder_model.predict(input_seq)\n",
    "\n",
    "     # <SOS>에 해당하는 토큰 생성\n",
    "    target_seq = np.zeros((1,1))\n",
    "    target_seq[0, 0] = tar_word_to_index['sostoken']\n",
    "\n",
    "    stop_condition = False\n",
    "    decoded_sentence = ''\n",
    "    while not stop_condition: # stop_condition이 True가 될 때까지 루프 반복\n",
    "\n",
    "        output_tokens, h, c = decoder_model.predict([target_seq] + [e_out, e_h, e_c])\n",
    "        sampled_token_index = np.argmax(output_tokens[0, -1, :])\n",
    "        sampled_token = tar_index_to_word[sampled_token_index]\n",
    "\n",
    "        if (sampled_token!='eostoken'):\n",
    "            decoded_sentence += ' '+sampled_token\n",
    "\n",
    "        #  <eos>에 도달하거나 최대 길이를 넘으면 중단.\n",
    "        if (sampled_token == 'eostoken'  or len(decoded_sentence.split()) >= (headline_max_len-1)):\n",
    "            stop_condition = True\n",
    "\n",
    "        # 길이가 1인 타겟 시퀀스를 업데이트\n",
    "        target_seq = np.zeros((1,1))\n",
    "        target_seq[0, 0] = sampled_token_index\n",
    "\n",
    "        # 상태를 업데이트 합니다.\n",
    "        e_h, e_c = h, c\n",
    "\n",
    "    return decoded_sentence"
   ]
  },
  {
   "cell_type": "markdown",
   "id": "c1fb1b2c",
   "metadata": {},
   "source": [
    "## Step 4. 실제 결과와 요약문 비교하기"
   ]
  },
  {
   "cell_type": "code",
   "execution_count": 97,
   "id": "616b651e",
   "metadata": {},
   "outputs": [],
   "source": [
    "# 원문의 정수 시퀀스를 텍스트 시퀀스로 변환\n",
    "def seq2text(input_seq):\n",
    "    temp=''\n",
    "    for i in input_seq:\n",
    "        if (i!=0):\n",
    "            temp = temp + src_index_to_word[i]+' '\n",
    "    return temp\n",
    "\n",
    "# 요약문의 정수 시퀀스를 텍스트 시퀀스로 변환\n",
    "def seq2headline(input_seq):\n",
    "    temp=''\n",
    "    for i in input_seq:\n",
    "        if((i!=0 and i!=tar_word_to_index['sostoken']) and i!=tar_word_to_index['eostoken']):\n",
    "            temp = temp + tar_index_to_word[i] + ' '\n",
    "    return temp"
   ]
  },
  {
   "cell_type": "code",
   "execution_count": 98,
   "id": "694eac9e",
   "metadata": {},
   "outputs": [
    {
     "name": "stdout",
     "output_type": "stream",
     "text": [
      "원문:  sara ali khan debut bollywood film kedarnath opposite sushant singh rajput set release june next year sharing details bollywood trade analyst taran adarsh tweeted film directed abhishek kapoor produced balaji motion pictures kriarj entertainment film shooting expected start later year \n",
      "실제 요약:  sara debut film opposite sushant to release in june \n",
      "예측 요약:   sara ali khan film to star in kedarnath reports\n",
      "\n",
      "\n",
      "원문:  petrol price increased first time wednesday since dynamic fuel pricing came effect june indian oil raised price petrol delhi paisa per litre thursday petrol price fallen per litre delhi last days diesel price reduced per litre \n",
      "실제 요약:  petrol price rises for the first time since pricing \n",
      "예측 요약:   petrol diesel prices hits all time high of per litre\n",
      "\n",
      "\n",
      "원문:  virat kohli slammed st hundred th odi sunday sachin tendulkar hit first odis sachin scored runs first odis virat scored runs kohli runs hundreds best average odis matches \n",
      "실제 요약:  virat kohli has centuries after odis sachin had \n",
      "예측 요약:   kohli has hit tons in each other for his th century\n",
      "\n",
      "\n",
      "원문:  year old girl navi mumbai allegedly kidnapped raped auto driver pretext dropping home police said accused dropped victim home took isolated area raped jumped vehicle sensing taking home claimed \n",
      "실제 요약:  victim jumps out of auto after being raped in navi mumbai \n",
      "예측 요약:   year old girl raped by men in gurugram\n",
      "\n",
      "\n",
      "원문:  indian pacer bhuvneshwar kumar said kept staring sachin tendulkar first saw hotel start mumbai uttar pradesh ranji final hyderabad bhuvneshwar added felt like possessed kept staring sachin even batting year old dismissed sachin duck match \n",
      "실제 요약:  kept staring at sachin when first saw him bhuvneshwar \n",
      "예측 요약:   sachin will be more than sachin pilot who was rohit\n",
      "\n",
      "\n",
      "원문:  facebook co founder ceo mark zuckerberg sell single share fourth quarter company stock fell first quarter two years zuckerberg refrained according bloomberg since september year old sold million shares worth around billion fund philanthropy \n",
      "실제 요약:  zuckerberg did not sell single share in when facebook fell \n",
      "예측 요약:   mark zuckerberg shares fall on day of his day\n",
      "\n",
      "\n",
      "원문:  european aircraft giant airbus taking majority stake canada bombardier series jet programme comes bombardier hit import levy united states huge tariff followed complaint boeing company sold series jets low prices delta airlines \n",
      "실제 요약:  airbus takes majority stake in jet project \n",
      "예측 요약:   boeing to sell planes to boeing on bn deal\n",
      "\n",
      "\n",
      "원문:  passenger bought flight wifi descent southwest flight engine exploded slammed online said wanted communicate loved ones people said focused helping critically injured passenger others said provided important images \n",
      "실제 요약:  man livestreamed plane as engine exploded \n",
      "예측 요약:   passenger on flight engine has no wrong for engine\n",
      "\n",
      "\n",
      "원문:  two sons expelled primary membership indian national lok dal leader ajay chautala said current situation like whether would like choose sons expelled grandfather chief om prakash chautala grounds indiscipline hooliganism spreading within party \n",
      "실제 요약:  it is like inld ajay chautala as sons expelled \n",
      "예측 요약:   will not be able to join the country if they are here\n",
      "\n",
      "\n",
      "원문:  election commission deployed flying squads surveillance teams karnataka ahead assembly elections ensure enforcement model code conduct forces cumulatively removed wall writings posters banners public property seized cash worth kg gold litres liquor one day \n",
      "실제 요약:  flying squads surveillance teams deployed in taka \n",
      "예측 요약:   ec orders to use of seats in taka assembly elections\n",
      "\n",
      "\n"
     ]
    }
   ],
   "source": [
    "for i in range(10):\n",
    "    print(\"원문: \", seq2text(encoder_input_test[i]))\n",
    "    print(\"실제 요약: \", seq2headline(decoder_input_test[i]))\n",
    "    print(\"예측 요약: \", decode_sequence(encoder_input_test[i].reshape(1, text_max_len)))\n",
    "    print('\\n')"
   ]
  },
  {
   "cell_type": "markdown",
   "id": "28a5b307",
   "metadata": {},
   "source": [
    "test 비교 결과:\n",
    "* 전반적으로 문법적으로 맞지 않은 문장들이 생성됨\n",
    "* 전혀 이해할 수 없는 요약 문장이 있는가 하면\n",
    "* 나름 말이 되는 요약 문장도 있음\n",
    "\n",
    "실제 요약:  petrol price rises for the first time since pricing   \n",
    "예측 요약:   petrol diesel prices hits all time high of per litre  \n",
    "\n",
    "-> 문장 자체는 문법을 따르고 있지 않지만 petrol 가격이 사상 최대를 기록했다는 의미는 나름 담고 있음"
   ]
  },
  {
   "cell_type": "markdown",
   "id": "51e8c233",
   "metadata": {},
   "source": [
    "## Step 5. Summa를 이용해서 추출적 요약해보기"
   ]
  },
  {
   "cell_type": "code",
   "execution_count": 99,
   "id": "2cfa9b71",
   "metadata": {},
   "outputs": [],
   "source": [
    "from summa.summarizer import summarize"
   ]
  },
  {
   "cell_type": "code",
   "execution_count": 135,
   "id": "90721730",
   "metadata": {},
   "outputs": [],
   "source": [
    "test_text = \"\"\"\n",
    "A 28-year-old man has tested positive for Middle East Respiratory Syndrome Coronavirus (MERS-CoV) in Abu Dhabi, the World Health Organization said on Monday. Authorities checked 108 people that he was in contact with, but no secondary infections turned up. The WHO said there were no signs the man had come into contact with dromedary camels, which spread the disease.\n",
    "\"\"\""
   ]
  },
  {
   "cell_type": "code",
   "execution_count": 136,
   "id": "afa20a60",
   "metadata": {},
   "outputs": [
    {
     "name": "stdout",
     "output_type": "stream",
     "text": [
      "Summary:  The WHO said there were no signs the man had come into contact with dromedary camels, which spread the disease.\n"
     ]
    }
   ],
   "source": [
    "print('Summary: ', summarize(test_text, words=10))"
   ]
  },
  {
   "cell_type": "code",
   "execution_count": 137,
   "id": "ce6530d5",
   "metadata": {},
   "outputs": [
    {
     "name": "stdout",
     "output_type": "stream",
     "text": [
      "year old man tested positive middle east respiratory syndrome coronavirus abu dhabi world health organization said monday authorities checked people contact secondary infections turned said signs man come contact dromedary camels spread disease\n",
      "---------------------------------------------\n",
      "[[], [], [], [], [], [], [], [], [], [], [], [], [], [], [], [], [], [], [], [], [], [], [], [], [], [], [], [], [], [], [], [], [], [], [], [], [], [], [], [], [], [], [], [], [], [], [], [], [], [], [], [], [], [], [], [], [], [], [], [], [], [], [], [], [], [], [], [], [], [], [], [], [], [], [], [], [], [], [], [], [], [], [], [], [], [], [], [], [], [], [], [], [], [], [], [], [], [], [], [], [], [], [], [], [], [], [], [], [], [], [], [], [], [], [], [], [], [], [], [], [], [], [], [], [], [], [], [], [], [], [], [], [], [], [], [], [], [], [], [], [], [], [], [], [], [], [], [], [], [], [], [], [], [], [], [], [], [], [], [], [], [], [], [], [], [], [], [], [], [], [], [], [], [], [], [], [], [], [], [], [], [], [], [], [], [], [], [], [], [], [], [], [], [], [], [], [], [], [], [], [], [], [], [], [], [], [], [], [], [], [], [], [], [], [], [], [], [], [], [], [], [], [], [], [], [], [], [], [], [], [], [], [], [], [], [], [], [], [], [], [], [], [], []]\n",
      "---------------------------------------------\n",
      "[[0 0 0 ... 0 0 0]\n",
      " [0 0 0 ... 0 0 0]\n",
      " [0 0 0 ... 0 0 0]\n",
      " ...\n",
      " [0 0 0 ... 0 0 0]\n",
      " [0 0 0 ... 0 0 0]\n",
      " [0 0 0 ... 0 0 0]]\n",
      "---------------------------------------------\n"
     ]
    }
   ],
   "source": [
    "clean_test_text = preprocess_sentence(test_text)\n",
    "print(clean_test_text)\n",
    "print('-'*45)\n",
    "input_test_text = tokenizer.texts_to_sequences(clean_test_text)\n",
    "print(input_test_text)\n",
    "print('-'*45)\n",
    "input_test_text = pad_sequences(input_test_text, maxlen=text_max_len, padding='post')\n",
    "print(input_test_text)\n",
    "print('-'*45)"
   ]
  },
  {
   "cell_type": "markdown",
   "id": "f160ec61",
   "metadata": {},
   "source": [
    "의도한 바: 실제 기사를 가져와서 두가지 요약을 해보고 비교해보고 싶었으나...\n",
    "문제점\n",
    "1. 내가 만든 모델은 text_max_len이 50밖에 되지 않은 짧은 문장을 토대로 헤드라인을 뽑는 모델이라면, summa의 summarize는 여러 문장을 가지고 있는 긴 길이의 글을 토대로 중요 문장을 뽑는 방식. 서로에게 적합한 글이 달라 성능을 딱 비교하기 어려웠음\n",
    "2. tokenizer를 통한 정수인코딩이 새로운 문장에서 잘 기능하지 않는 문제 발생 -> 학습에 쓰인 데이터셋과 내가 긁어온 기사의 단어들이 서로 너무 달라서 그럴 수 있을 것이라 추측... 근데 한 개도 안되는 건 문제가 있지 않나?\n"
   ]
  },
  {
   "cell_type": "code",
   "execution_count": 146,
   "id": "febbbdf7",
   "metadata": {},
   "outputs": [],
   "source": [
    "df = pd.read_csv('news_summary_more.csv', encoding='iso-8859-1')\n",
    "sample_text = df['text'].sample(3)"
   ]
  },
  {
   "cell_type": "code",
   "execution_count": 147,
   "id": "b4147cd3",
   "metadata": {},
   "outputs": [
    {
     "name": "stdout",
     "output_type": "stream",
     "text": [
      "52109    Chinese researchers have proposed using space-...\n",
      "75385    Amazon on Sunday said it is refunding purchase...\n",
      "73710    The Delhi government on Wednesday said it has ...\n",
      "Name: text, dtype: object\n"
     ]
    }
   ],
   "source": [
    "print(sample_text)"
   ]
  },
  {
   "cell_type": "code",
   "execution_count": 150,
   "id": "7fbe0d32",
   "metadata": {},
   "outputs": [
    {
     "name": "stdout",
     "output_type": "stream",
     "text": [
      "Chinese researchers have proposed using space-based lasers for breaking large-sized space junk into smaller pieces, claimed to make them potentially less harmful. NASA estimates over 7.5 lakh pieces of old satellite and rocket debris smaller than 1 cm exist in Earth's orbit. However, only 22,000 are tracked, travelling at speeds above 27,000 kmph which can harm satellites and manned missions.\n",
      "summarize:  NASA estimates over 7.5 lakh pieces of old satellite and rocket debris smaller than 1 cm exist in Earth's orbit.\n",
      "Amazon on Sunday said it is refunding purchases of solar eclipse glasses in the US that are below safety standards needed to protect users' eyes. Amazon is warning customers to not use the glasses ahead of the upcoming eclipse on 21st August across the US. Amazon is also recalling some glasses that do not come from recommended manufacturers. \n",
      "summarize:  Amazon is warning customers to not use the glasses ahead of the upcoming eclipse on 21st August across the US.\n",
      "The Delhi government on Wednesday said it has seized nearly 8,000 kilograms of plastic bags thinner than 50 microns, two weeks after the National Green Tribunal banned them. Nearly Ã¢ÂÂ¹3 lakh have been collected as environment compensation, the government added. Plastic manufacturers claimed that Delhi would get rid of at least 25% of plastic if the ban was imposed strictly.\n",
      "summarize:  \n"
     ]
    }
   ],
   "source": [
    "for s in sample_text:\n",
    "    print(s)\n",
    "    print('summarize: ', summarize(s, words=10))"
   ]
  },
  {
   "cell_type": "code",
   "execution_count": 151,
   "id": "130919d1",
   "metadata": {},
   "outputs": [
    {
     "name": "stdout",
     "output_type": "stream",
     "text": [
      "['chinese researchers proposed using space based lasers breaking large sized space junk smaller pieces claimed make potentially less harmful nasa estimates lakh pieces old satellite rocket debris smaller cm exist earth orbit however tracked travelling speeds kmph harm satellites manned missions', 'amazon sunday said refunding purchases solar eclipse glasses us safety standards needed protect users eyes amazon warning customers use glasses ahead upcoming eclipse st august across us amazon also recalling glasses come recommended manufacturers', 'delhi government wednesday said seized nearly kilograms plastic bags thinner microns two weeks national green tribunal banned nearly lakh collected environment compensation government added plastic manufacturers claimed delhi would get rid least plastic ban imposed strictly']\n",
      "[[269, 232, 706, 154, 306, 36, 11591, 2037, 1215, 4269, 306, 12739, 3728, 3616, 40, 117, 5142, 774, 5183, 609, 5819, 64, 3616, 13, 1560, 1474, 4918, 3728, 77, 4482, 511, 2895, 98, 6081, 1372, 5340, 1733, 3914, 3370, 6962, 4490], [481, 89, 1, 14694, 5517, 1266, 4554, 4997, 5, 871, 2769, 1650, 1456, 107, 2790, 481, 1671, 719, 229, 4997, 387, 185, 4554, 1125, 441, 245, 5, 481, 6, 5199, 4997, 268, 2506, 5260], [26, 9, 60, 1, 1094, 187, 4351, 1317, 3000, 12624, 20373, 11, 901, 81, 1373, 1720, 600, 187, 64, 1886, 1412, 1186, 9, 4, 1317, 5260, 40, 26, 22, 122, 7028, 172, 1317, 397, 933, 9585]]\n",
      "[[  269   232   706   154   306    36 11591  2037  1215  4269   306 12739\n",
      "   3728  3616    40   117  5142   774  5183   609  5819    64  3616    13\n",
      "   1560  1474  4918  3728    77  4482   511  2895    98  6081  1372  5340\n",
      "   1733  3914  3370  6962  4490     0     0     0     0     0     0     0\n",
      "      0     0]\n",
      " [  481    89     1 14694  5517  1266  4554  4997     5   871  2769  1650\n",
      "   1456   107  2790   481  1671   719   229  4997   387   185  4554  1125\n",
      "    441   245     5   481     6  5199  4997   268  2506  5260     0     0\n",
      "      0     0     0     0     0     0     0     0     0     0     0     0\n",
      "      0     0]\n",
      " [   26     9    60     1  1094   187  4351  1317  3000 12624 20373    11\n",
      "    901    81  1373  1720   600   187    64  1886  1412  1186     9     4\n",
      "   1317  5260    40    26    22   122  7028   172  1317   397   933  9585\n",
      "      0     0     0     0     0     0     0     0     0     0     0     0\n",
      "      0     0]]\n"
     ]
    }
   ],
   "source": [
    "clean_test_text = []\n",
    "for s in sample_text:\n",
    "    clean_test_text.append(preprocess_sentence(s))\n",
    "print(clean_test_text)\n",
    "input_test_text = tokenizer.texts_to_sequences(clean_test_text)\n",
    "print(input_test_text)\n",
    "input_test_text = pad_sequences(input_test_text, maxlen=text_max_len, padding='post')\n",
    "print(input_test_text)"
   ]
  },
  {
   "cell_type": "code",
   "execution_count": 152,
   "id": "58a24cda",
   "metadata": {},
   "outputs": [
    {
     "name": "stdout",
     "output_type": "stream",
     "text": [
      "원문:  Chinese researchers have proposed using space-based lasers for breaking large-sized space junk into smaller pieces, claimed to make them potentially less harmful. NASA estimates over 7.5 lakh pieces of old satellite and rocket debris smaller than 1 cm exist in Earth's orbit. However, only 22,000 are tracked, travelling at speeds above 27,000 kmph which can harm satellites and manned missions.\n",
      "추출적 요약:  NASA estimates over 7.5 lakh pieces of old satellite and rocket debris smaller than 1 cm exist in Earth's orbit.\n",
      "추상적 요약:   scientists to use earth as iss lab made earth\n",
      "원문:  Amazon on Sunday said it is refunding purchases of solar eclipse glasses in the US that are below safety standards needed to protect users' eyes. Amazon is warning customers to not use the glasses ahead of the upcoming eclipse on 21st August across the US. Amazon is also recalling some glasses that do not come from recommended manufacturers. \n",
      "추출적 요약:  Amazon is warning customers to not use the glasses ahead of the upcoming eclipse on 21st August across the US.\n",
      "추상적 요약:   amazon to use solar eclipse to make solar eclipse\n",
      "원문:  The Delhi government on Wednesday said it has seized nearly 8,000 kilograms of plastic bags thinner than 50 microns, two weeks after the National Green Tribunal banned them. Nearly Ã¢ÂÂ¹3 lakh have been collected as environment compensation, the government added. Plastic manufacturers claimed that Delhi would get rid of at least 25% of plastic if the ban was imposed strictly.\n",
      "추출적 요약:  \n",
      "추상적 요약:   kg plastic bags seized in delhi govt\n"
     ]
    }
   ],
   "source": [
    "for i, s in enumerate(sample_text):\n",
    "    print(\"원문: \", s)\n",
    "    print(\"추출적 요약: \", summarize(s, words=10))\n",
    "    print(\"추상적 요약: \", decode_sequence(input_test_text[i].reshape(1, text_max_len)))"
   ]
  },
  {
   "cell_type": "code",
   "execution_count": 153,
   "id": "5f1e386b",
   "metadata": {},
   "outputs": [],
   "source": [
    "sample_text = df['text'].sample(3)"
   ]
  },
  {
   "cell_type": "code",
   "execution_count": 155,
   "id": "33a194f8",
   "metadata": {},
   "outputs": [
    {
     "name": "stdout",
     "output_type": "stream",
     "text": [
      "원문:  Two jailed Nationalist Congress Party MLAs, Chhagan Bhujbal and Ramesh Kadam, cast their votes in the Presidential elections on Monday, a Vidhan Bhawan official said. While Bhujbal had received permission from a Special Court to vote in the elections, the Bombay High Court had allowed Kadam to vote.\n",
      "추출적 요약:  \n",
      "추상적 요약:   scientists to use earth as iss lab made earth\n",
      "원문:  Mukesh Ambani-led Reliance Industries plans to raise about Ã¢ÂÂ¹40,000 crore in debt during FY19 as it expands its consumer businesses, according to reports. Reliance's total debt has reportedly tripled in the past five years. The company has total borrowings of about Ã¢ÂÂ¹2.2 trillion, more than half of which is due to be repaid by 2022, according to Bloomberg. \n",
      "추출적 요약:  \n",
      "추상적 요약:   amazon to use solar eclipse to make solar eclipse\n",
      "원문:  DD spinner Sandeep Lamichhane on Saturday became the first cricketer from Nepal to play in the IPL. Lamichhane, aged 17 years and 283 days, dismissed RCB's Parthiv Patel to become the second youngest overseas player to take a wicket in the IPL. Afghan spinner Mujeeb Ur Rahman is the youngest to achieve the feat at 17 years and 11 days.\n",
      "추출적 요약:  \n",
      "추상적 요약:   kg plastic bags seized in delhi govt\n"
     ]
    }
   ],
   "source": [
    "for i, s in enumerate(sample_text):\n",
    "    print(\"원문: \", s)\n",
    "    print(\"추출적 요약: \", summarize(s, words=7))\n",
    "    print(\"추상적 요약: \", decode_sequence(input_test_text[i].reshape(1, text_max_len)))"
   ]
  },
  {
   "cell_type": "code",
   "execution_count": null,
   "id": "64af6835",
   "metadata": {},
   "outputs": [],
   "source": []
  }
 ],
 "metadata": {
  "kernelspec": {
   "display_name": "Python 3 (ipykernel)",
   "language": "python",
   "name": "python3"
  },
  "language_info": {
   "codemirror_mode": {
    "name": "ipython",
    "version": 3
   },
   "file_extension": ".py",
   "mimetype": "text/x-python",
   "name": "python",
   "nbconvert_exporter": "python",
   "pygments_lexer": "ipython3",
   "version": "3.9.7"
  }
 },
 "nbformat": 4,
 "nbformat_minor": 5
}
